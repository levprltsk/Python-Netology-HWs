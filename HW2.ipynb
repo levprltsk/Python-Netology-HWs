{
 "cells": [
  {
   "cell_type": "code",
   "execution_count": 96,
   "metadata": {},
   "outputs": [
    {
     "name": "stdout",
     "output_type": "stream",
     "text": [
      "[{'visit1': ['Москва', 'Россия']}, {'visit3': ['Владимир', 'Россия']}, {'visit7': ['Тула', 'Россия']}, {'visit8': ['Тула', 'Россия']}, {'visit9': ['Курск', 'Россия']}, {'visit10': ['Архангельск', 'Россия']}]\n"
     ]
    }
   ],
   "source": [
    "\"\"\"Дан список с визитами по городам и странам. \n",
    "Напишите код, который возвращает отфильтрованный список geo_logs, содержащий только визиты из России. \n",
    "Считайте, что список geo_logs легко помещается в оперативной памяти.\"\"\"\n",
    "\n",
    "geo_logs = [\n",
    "{'visit1': ['Москва', 'Россия']},\n",
    "{'visit2': ['Дели', 'Индия']},\n",
    "{'visit3': ['Владимир', 'Россия']},\n",
    "{'visit4': ['Лиссабон', 'Португалия']},\n",
    "{'visit5': ['Париж', 'Франция']},\n",
    "{'visit6': ['Лиссабон', 'Португалия']},\n",
    "{'visit7': ['Тула', 'Россия']},\n",
    "{'visit8': ['Тула', 'Россия']},\n",
    "{'visit9': ['Курск', 'Россия']},\n",
    "{'visit10': ['Архангельск', 'Россия']},\n",
    "]\n",
    "\n",
    "ru_logs = []\n",
    "for i_dict in geo_logs:\n",
    "    for i_value in i_dict.values():\n",
    "        if i_value[1] == 'Россия':\n",
    "            ru_logs.append(i_dict)\n",
    "print (ru_logs)\n"
   ]
  },
  {
   "cell_type": "code",
   "execution_count": 103,
   "metadata": {},
   "outputs": [
    {
     "name": "stdout",
     "output_type": "stream",
     "text": [
      "213\t15\t54\t119\t98\t35\t\n"
     ]
    }
   ],
   "source": [
    "\"\"\"Выведите на экран все уникальные гео-ID из значений словаря ids. \n",
    "Т. е. список вида [213, 15, 54, 119, 98, 35]\"\"\"\n",
    "\n",
    "ids = {'user1': [213, 213, 213, 15, 213], 'user2': [54, 54, 119, 119, 119], 'user3': [213, 98, 98, 35]}\n",
    "unique_values=[]\n",
    "for i_dict in ids.values():\n",
    "    for i_values in i_dict:\n",
    "        if i_values not in unique_values:\n",
    "            unique_values.append(i_values)\n",
    "            print(i_values, end=\"\\t\")\n",
    "print()"
   ]
  },
  {
   "cell_type": "code",
   "execution_count": 183,
   "metadata": {},
   "outputs": [
    {
     "name": "stdout",
     "output_type": "stream",
     "text": [
      "['смотреть сериалы онлайн', 'новости спорта', 'афиша кино', 'курс доллара', 'сериалы этим летом', 'курс по питону', 'сериалы про спорт']\n",
      "7\n",
      "поисковых запросов из 3 слов(а) -  57.142857142857146\n",
      "поисковых запросов из 2 слов(а) -  42.857142857142854\n"
     ]
    }
   ],
   "source": [
    "\"\"\"Список поисковых запросов. \n",
    "Получить распределение количества слов в них. \n",
    "Т. е. поисковых запросов из одного слова 5%, из двух - 7%, из трех - 3% итд.\"\"\"\n",
    "\n",
    "queries = ['смотреть сериалы онлайн', 'новости спорта', 'афиша кино', 'курс доллара',\n",
    "'сериалы этим летом','курс по питону', 'сериалы про спорт',]\n",
    "print(queries)\n",
    "number_of_queries = len(queries)\n",
    "print(number_of_queries)\n",
    "i = 0\n",
    "stat_proto = {}\n",
    "stat_check = []\n",
    "stat_true = {}\n",
    "while i < number_of_queries:\n",
    "    stat_proto.update({ i : queries[i].count(' ')})\n",
    "    if stat_proto[i] not in stat_check:\n",
    "        stat_check.append(stat_proto[i])\n",
    "    i = i + 1\n",
    "i = 0\n",
    "y = 0\n",
    "a = 0\n",
    "for i in stat_check:\n",
    "    while y < number_of_queries:\n",
    "        if i == stat_proto[y]:\n",
    "            a += 1\n",
    "        y += 1\n",
    "    print ('поисковых запросов из', i+1, 'слов(а) - ', a*100/number_of_queries)\n",
    "    y=0\n",
    "    a=0"
   ]
  }
 ],
 "metadata": {
  "kernelspec": {
   "display_name": "Python 3",
   "language": "python",
   "name": "python3"
  },
  "language_info": {
   "codemirror_mode": {
    "name": "ipython",
    "version": 3
   },
   "file_extension": ".py",
   "mimetype": "text/x-python",
   "name": "python",
   "nbconvert_exporter": "python",
   "pygments_lexer": "ipython3",
   "version": "3.7.0"
  }
 },
 "nbformat": 4,
 "nbformat_minor": 2
}
