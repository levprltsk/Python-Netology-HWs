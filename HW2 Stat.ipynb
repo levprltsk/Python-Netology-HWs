{
 "cells": [
  {
   "cell_type": "markdown",
   "metadata": {},
   "source": [
    "# Домашняя работа №2"
   ]
  },
  {
   "cell_type": "code",
   "execution_count": 1,
   "metadata": {},
   "outputs": [],
   "source": [
    "import pandas as pd\n",
    "from scipy import stats\n",
    "import numpy as np\n",
    "\n",
    "import seaborn as sns\n",
    "from sklearn import datasets\n",
    "from matplotlib import pyplot as plt\n",
    "from statsmodels.distributions.empirical_distribution import ECDF\n",
    "\n",
    "import scipy.stats as sts\n",
    "import numpy as np\n",
    "from matplotlib import pyplot as plt"
   ]
  },
  {
   "cell_type": "markdown",
   "metadata": {},
   "source": [
    "## Генеральная совокупность и выборка"
   ]
  },
  {
   "cell_type": "markdown",
   "metadata": {},
   "source": [
    "- Чем отличается генеральная совокупность от выборки?"
   ]
  },
  {
   "cell_type": "code",
   "execution_count": null,
   "metadata": {},
   "outputs": [],
   "source": [
    "Выборка - случайно выбранная часть элементов генеральной совокупности"
   ]
  },
  {
   "cell_type": "markdown",
   "metadata": {},
   "source": [
    "- Если размер выборки больше 200, то такая выборка является репрезентативной?"
   ]
  },
  {
   "cell_type": "code",
   "execution_count": null,
   "metadata": {},
   "outputs": [],
   "source": [
    "Зависит от объема генеральной совокупности и требуемого доверительного интервала"
   ]
  },
  {
   "cell_type": "markdown",
   "metadata": {},
   "source": [
    "- Измерили длину волос футболистов сборной Франции на ЧМ-2018. Что могло являться генеральной совокупностью? Приведите 3 примера."
   ]
  },
  {
   "cell_type": "code",
   "execution_count": null,
   "metadata": {},
   "outputs": [],
   "source": [
    "1) каждый волос каждого футболиста\n",
    "2) каждый волос на голове каждого футболиста\n",
    "3) оценка средней длины волос на голове каждого футболиста"
   ]
  },
  {
   "cell_type": "markdown",
   "metadata": {},
   "source": [
    "- Пусть генеральная совокупность --- вес детей, родившихся в Волгограде за последние 10 лет. Предложите 2 стратегии, как сгенерировать выборку."
   ]
  },
  {
   "cell_type": "code",
   "execution_count": null,
   "metadata": {},
   "outputs": [],
   "source": [
    "1) Случайная выборка обьемом n из генеральной совокупности\n",
    "2) 10 случайных выборок по каждому году рождения объемом n/10"
   ]
  },
  {
   "cell_type": "markdown",
   "metadata": {},
   "source": [
    "## Параметры центра и разброса"
   ]
  },
  {
   "cell_type": "markdown",
   "metadata": {},
   "source": [
    "- Постройте распределение, у которого отсутствует мода.\n"
   ]
  },
  {
   "cell_type": "code",
   "execution_count": 5,
   "metadata": {},
   "outputs": [
    {
     "data": {
      "text/plain": [
       "[<matplotlib.lines.Line2D at 0x7f02c14df400>]"
      ]
     },
     "execution_count": 5,
     "metadata": {},
     "output_type": "execute_result"
    },
    {
     "data": {
      "image/png": "[encoded data removed]",
      "text/plain": [
       "<Figure size 864x432 with 1 Axes>"
      ]
     },
     "metadata": {
      "needs_background": "light"
     },
     "output_type": "display_data"
    }
   ],
   "source": [
    "x = np.linspace(-10000000000, 10000000000, 10000)\n",
    "\n",
    "plt.figure(figsize=(12,6))\n",
    "\n",
    "pdf = flat_dstr.pdf(x)\n",
    "plt.plot(x, pdf)\n",
    "\n"
   ]
  },
  {
   "cell_type": "markdown",
   "metadata": {},
   "source": [
    "- Какая из статистик (медиана, матожидание) будет наиболее неустойчивой при выбросах? Проверить на выборке из Гамма-распределения. "
   ]
  },
  {
   "cell_type": "code",
   "execution_count": 6,
   "metadata": {},
   "outputs": [
    {
     "name": "stdout",
     "output_type": "stream",
     "text": [
      "3.4878301753586562 4.184974218039341\n",
      "3.8622714450142923 23.705590030059028\n"
     ]
    }
   ],
   "source": [
    "gamma_rv = stats.gamma(3, 1)\n",
    "sample = gamma_rv.rvs(51)\n",
    "med = sorted(sample)[25]\n",
    "mean = sample.mean()\n",
    "\n",
    "#your code here\n",
    "overshoot = 999\n",
    "np.put(sample,50,overshoot)\n",
    "new_med = sorted(sample)[25]\n",
    "new_mean = sample.mean()\n",
    "\n",
    "\n",
    "print(med,mean)\n",
    "print(new_med,new_mean)\n",
    "#медиана не изменится/изменится незначительно. \n",
    "#среднее значение изменится тем сильнее, чем дальше будет вброс от среднего\n"
   ]
  },
  {
   "cell_type": "markdown",
   "metadata": {},
   "source": [
    "- Как изменится матожидание, если к выборке добавить константу $C$? Умножить на $C$. \n",
    "\n",
    "Проверите на выборке из распределения Пуассона"
   ]
  },
  {
   "cell_type": "code",
   "execution_count": 11,
   "metadata": {},
   "outputs": [
    {
     "name": "stdout",
     "output_type": "stream",
     "text": [
      "среднее выборки = 2.22\n",
      "среднее выборки где каждый элемент+0,5 = 2.72 равен 0.5+среднее выборки = 2.72\n",
      "среднее выборки где каждый элемент*0,5 = 1.11 равен 0.5*среднее выборки = 1.11\n"
     ]
    }
   ],
   "source": [
    "pois_rv = stats.poisson(2)\n",
    "sample = pois_rv.rvs(100)\n",
    "C = 0.5\n",
    "#your code here\n",
    "clean_mean = sample.mean()\n",
    "\n",
    "mean_with_c = np.sum([sample[i] + C for i in range (0,100)])/100\n",
    "\n",
    "mean_mult_c = np.sum([sample[i] * C for i in range (0,100)])/100\n",
    "\n",
    "\n",
    "#При добавлении к каждому элементу констатны среднее изменится на величину константы\n",
    "\n",
    "#При умножении каждого элемента на константу среднее изменится в равное константе количество раз\n",
    "\n",
    "print('среднее выборки =',clean_mean)\n",
    "print('среднее выборки где каждый элемент+0,5 =',mean_with_c,'равен 0.5+среднее выборки =',clean_mean + C)\n",
    "print('среднее выборки где каждый элемент*0,5 =',mean_mult_c,'равен 0.5*среднее выборки =',clean_mean * C)      \n"
   ]
  },
  {
   "cell_type": "markdown",
   "metadata": {},
   "source": [
    "- Как изменится дисперсия при добавлении выбросов? Проверьте для распределения экспоненциального распределения"
   ]
  },
  {
   "cell_type": "code",
   "execution_count": 36,
   "metadata": {},
   "outputs": [
    {
     "name": "stdout",
     "output_type": "stream",
     "text": [
      "Дисперсия распределения без вброса = 0.88058425019203\n",
      "Дисперсия распределения с одним вбросом = 44.02212595232193\n",
      "После добавления вброса десперсия увеличилась в 49.99 раза\n"
     ]
    }
   ],
   "source": [
    "exp_rv = stats.expon(4)\n",
    "sample = exp_rv.rvs(50)\n",
    "var = sample.var()\n",
    "\n",
    "#your code here\n",
    "overshoot = 52\n",
    "np.put(sample,49,overshoot)\n",
    "new_var = sample.var()\n",
    "\n",
    "print('Дисперсия распределения без вброса =',var)\n",
    "print('Дисперсия распределения с одним вбросом =', new_var)\n",
    "print('После добавления вброса десперсия увеличилась в', round(new_var/var,2),'раза')"
   ]
  },
  {
   "cell_type": "markdown",
   "metadata": {},
   "source": [
    "- Что шире: интерквантильный размах ($X_{0.75} - X_{0.25}$) или $(\\bar{X}-s^2, \\bar{X}+s^2)$ для $\\mathcal{N}(a, \\sigma^2)$. Посчитайте и сравните эти интервалы для распредения $\\mathcal{N}(3,1)$"
   ]
  },
  {
   "cell_type": "code",
   "execution_count": 45,
   "metadata": {},
   "outputs": [
    {
     "name": "stdout",
     "output_type": "stream",
     "text": [
      "размах между 25 и 75 квантилем = 1.39 меньше размаха отклонения от среднего на величину дисперсии = 2.099\n"
     ]
    }
   ],
   "source": [
    "norm_rv = stats.norm(3,1)\n",
    "sample = norm_rv.rvs(1000)\n",
    "#your code here\n",
    "import math\n",
    "mean_simple = sum(sample)/1000\n",
    "iq_range = sorted(sample)[(1000//4)*3] - sorted(sample)[1000//4]\n",
    "var_range = 2*(1 / (1000 - 1) * np.sum([(sample[i] - mean_simple)**2 for i in range(1000)]))\n",
    "print('размах между 25 и 75 перcентилем =', round(iq_range,2),'меньше размаха отклонения от среднего на величину дисперсии =', round(var_range,3))"
   ]
  },
  {
   "cell_type": "markdown",
   "metadata": {},
   "source": [
    "## Основные статистики и ЦПТ"
   ]
  },
  {
   "cell_type": "markdown",
   "metadata": {},
   "source": [
    "- Что такое статистика? Посчитайте любую для бета-распределения (1,3)"
   ]
  },
  {
   "cell_type": "code",
   "execution_count": 47,
   "metadata": {},
   "outputs": [
    {
     "name": "stdout",
     "output_type": "stream",
     "text": [
      "например среднее выборки = 0.24690234625695712\n"
     ]
    }
   ],
   "source": [
    "beta_rv = stats.beta(1,3)\n",
    "#your code here\n",
    "sample_beta = beta_rv.rvs(100)\n",
    "mean = sample_beta.mean()\n",
    "print ('например, выборочное среднее =',mean)\n",
    "#статистика - измеримая числовая функция от выборки"
   ]
  },
  {
   "cell_type": "markdown",
   "metadata": {},
   "source": [
    "- Какие статистики являются оценками матожидания, медианы и дисперсии? Посчитайте их для гамма-распределения с параметрами (2, 2)"
   ]
  },
  {
   "cell_type": "code",
   "execution_count": 55,
   "metadata": {},
   "outputs": [
    {
     "name": "stdout",
     "output_type": "stream",
     "text": [
      "выборочное среднее 3.8509655257870623\n",
      "выборочная дисперсия 2.052451683273658\n",
      "медиана, или 50-й перcентиль 3.3822832302193504\n"
     ]
    }
   ],
   "source": [
    "gamma_rv = stats.gamma(2,2)\n",
    "sample_gamma = gamma_rv.rvs(100)\n",
    "#your code here\n",
    "mean = sample_gamma.mean() #матожидание\n",
    "var = sample_gamma.var()   #дисперсия\n",
    "med = np.median(sample_gamma)   #медиана\n",
    "\n",
    "print('выборочное среднее', mean)\n",
    "print('выборочная дисперсия', var)\n",
    "print('медиана, или 50-й перcентиль', med)"
   ]
  },
  {
   "cell_type": "markdown",
   "metadata": {},
   "source": [
    "- Какое распределение имеет $\\bar{X}$ по ЦПТ? Если исходное распределение $\\mathcal{N}(5, 2)$. Сгенерировать выборки размером 50 из этого распределения и проверить. (построить распределение средних)"
   ]
  },
  {
   "cell_type": "code",
   "execution_count": 60,
   "metadata": {},
   "outputs": [
    {
     "data": {
      "text/plain": [
       "Text(0.5, 0, '$x avg$')"
      ]
     },
     "execution_count": 60,
     "metadata": {},
     "output_type": "execute_result"
    },
    {
     "data": {
      "image/png": "[encoded data removed]",
      "text/plain": [
       "<Figure size 432x288 with 1 Axes>"
      ]
     },
     "metadata": {
      "needs_background": "light"
     },
     "output_type": "display_data"
    }
   ],
   "source": [
    "# по ЦПТ Выборочное среднее будет стремтиться к среднему распределения т.е. к 5\n",
    "# чем больше объем выборки, тем точнее оценка выборочного среднего\n",
    "\n",
    "#your code here\n",
    "norm_rv = sts.norm(5,2)\n",
    "\n",
    "mean_array=[]\n",
    "for i in range(10000):\n",
    "    sample = norm_rv.rvs(50)\n",
    "    mean_array.append(sample.mean())\n",
    "\n",
    "plt.hist(mean_array, 11)\n",
    "plt.ylabel('fraction of samples')\n",
    "plt.xlabel('$x avg$')\n",
    "\n"
   ]
  },
  {
   "cell_type": "markdown",
   "metadata": {},
   "source": [
    "- Сгенерируйте выборки так, чтобы ЦПТ не выполнялось (распределение средних не было похоже нормальное)"
   ]
  },
  {
   "cell_type": "code",
   "execution_count": 125,
   "metadata": {},
   "outputs": [
    {
     "data": {
      "text/plain": [
       "Text(0.5, 0, '$x avg$')"
      ]
     },
     "execution_count": 125,
     "metadata": {},
     "output_type": "execute_result"
    },
    {
     "data": {
      "image/png": "[encoded data removed]",
      "text/plain": [
       "<Figure size 432x288 with 1 Axes>"
      ]
     },
     "metadata": {
      "needs_background": "light"
     },
     "output_type": "display_data"
    }
   ],
   "source": [
    "#your code here\n",
    "\n",
    "mean_array=[]\n",
    "for i in range(10):\n",
    "    sample = norm_rv.rvs(50)\n",
    "    mean_array.append(sample.mean())\n",
    "\n",
    "\n",
    "plt.hist(mean_array, 11)\n",
    "plt.ylabel('fraction of samples')\n",
    "plt.xlabel('$x avg$')\n"
   ]
  },
  {
   "cell_type": "markdown",
   "metadata": {},
   "source": [
    "- Сделайте z-преобразование для данного распределения"
   ]
  },
  {
   "cell_type": "code",
   "execution_count": 126,
   "metadata": {},
   "outputs": [
    {
     "name": "stdout",
     "output_type": "stream",
     "text": [
      "-2.6141311337823936e-16\n"
     ]
    }
   ],
   "source": [
    "expon_rv = stats.expon(3)\n",
    "sample = expon_rv.rvs(10000)\n",
    "sample_z = []\n",
    "new_z = 0\n",
    "mean_z = 0\n",
    "for i in range (10000):\n",
    "    new_z = (sample[i]-sample.mean())/sample.var()\n",
    "    sample_z.append(new_z)\n",
    "    mean_z +=new_z\n",
    "\n",
    "print(mean_z/10000)"
   ]
  },
  {
   "cell_type": "markdown",
   "metadata": {},
   "source": [
    "## Доверительные интервалы и гипотезы"
   ]
  },
  {
   "cell_type": "markdown",
   "metadata": {},
   "source": [
    "В данных задачах используйте встроенную функцию, позволяющую искать квантили случайной величины **your_rv**.ppf, а также https://gallery.shinyapps.io/dist_calc/ для визуальной картины"
   ]
  },
  {
   "cell_type": "markdown",
   "metadata": {},
   "source": [
    "- Постройте 90% доверительный интервал для среднего значения $\\mathcal{\\chi^2_{10}}$."
   ]
  },
  {
   "cell_type": "code",
   "execution_count": 2,
   "metadata": {},
   "outputs": [
    {
     "data": {
      "text/plain": [
       "15.987179172105263"
      ]
     },
     "execution_count": 2,
     "metadata": {},
     "output_type": "execute_result"
    }
   ],
   "source": [
    "#your code here\n",
    "chisqr_rv = sts.chi2(10)\n",
    "chisqr_rv.ppf(0.9)"
   ]
  },
  {
   "cell_type": "markdown",
   "metadata": {},
   "source": [
    "- Постройте ДИ для распределения Стьюдента с df = 15 уровня доверия 90%  и 95%. Какой интервал шире?"
   ]
  },
  {
   "cell_type": "code",
   "execution_count": 76,
   "metadata": {},
   "outputs": [
    {
     "name": "stdout",
     "output_type": "stream",
     "text": [
      "3.51 < 4.26\n",
      "90% интервал уже, чем 95% интервал\n"
     ]
    }
   ],
   "source": [
    "#your code here\n",
    "stud_rv=sts.t(15)\n",
    "print(round(stud_rv.ppf(0.95)*2,2),'<',round(stud_rv.ppf(0.975)*2,2))\n",
    "print('90% интервал уже, чем 95% интервал')"
   ]
  },
  {
   "cell_type": "markdown",
   "metadata": {},
   "source": [
    "- Сгенерируйте 2 выборки с одинаковыми параметрами, отличающиеся в 2 раза по размеру. Постройте 2 90% ДИ. Чем они отличаются? Распределение $\\mathcal{N}(0,2)$ "
   ]
  },
  {
   "cell_type": "code",
   "execution_count": 124,
   "metadata": {},
   "outputs": [
    {
     "name": "stdout",
     "output_type": "stream",
     "text": [
      "1.01063 вероятно, больше 1, а следовательно более широкое распределение чаще обладает меньшей дисперсией\n"
     ]
    }
   ],
   "source": [
    "norm_rv = sts.norm(0, 2)\n",
    "#your code here\n",
    "small_sample = norm_rv.rvs(50000)\n",
    "large_sample = norm_rv.rvs(100000)\n",
    "\n",
    "var_s = small_sample.var() \n",
    "var_l = large_sample.var() \n",
    "\n",
    "var_rel_sum = 0\n",
    "i = 0\n",
    "while i <= 100:\n",
    "    var_rel_sum += var_s/var_l\n",
    "    i += 1\n",
    "print (round(var_rel_sum/100,5),'вероятно, больше 1, а следовательно более широкое распределение чаще обладает меньшей дисперсией')"
   ]
  },
  {
   "cell_type": "markdown",
   "metadata": {},
   "source": [
    "- Пусть $H_0: M=100$. Мы получили $p = 0,12$ и не смогли отклонить нулевую гипотезу. Однако позже выяснилось, что среднее в генеральной совокупности равняется 114. Ошибку какого рода мы допустили?"
   ]
  },
  {
   "cell_type": "code",
   "execution_count": null,
   "metadata": {},
   "outputs": [],
   "source": [
    "#your answer here\n",
    "Ошибка второго рода"
   ]
  },
  {
   "cell_type": "raw",
   "metadata": {},
   "source": []
  },
  {
   "cell_type": "markdown",
   "metadata": {},
   "source": [
    "#### Какие рассуждения относительно p-value верные?\n",
    "\n",
    "- Елси p уровень значимости равен 0,003, то вероятность того, что верна нулевая гипотеза также равняется  0,003.\n",
    "- Если бы в исследовании мы получили $p=0,9$, это означало бы, что верна нулевая гипотеза.\n",
    "- Чем меньше p уровень значимости, тем сильнее получаемые различия.\n"
   ]
  },
  {
   "cell_type": "code",
   "execution_count": null,
   "metadata": {},
   "outputs": [],
   "source": [
    "#your answer here\n",
    "1) не верно\n",
    "2) не верно\n",
    "3) не верно"
   ]
  },
  {
   "cell_type": "markdown",
   "metadata": {},
   "source": [
    "- Какое $p$-value будете использовать, если отклонять $H_0$ рисковано: $0.05$ или $0.01$? Является ли 99\\% доверительный интервал хорошей оценкой в общем случае?"
   ]
  },
  {
   "cell_type": "code",
   "execution_count": null,
   "metadata": {},
   "outputs": [],
   "source": [
    "#your answer here\n",
    "для отклонения предпочтительнее 0.01\n",
    "99% ДИ - хорошая оценка, но вероятно, с практической точки зрения интервал получится излишне широким.\n"
   ]
  },
  {
   "cell_type": "markdown",
   "metadata": {},
   "source": [
    "## Стьюдент и корреляция"
   ]
  },
  {
   "cell_type": "markdown",
   "metadata": {},
   "source": [
    "- Изобразите графики плотности распределения Стьюдента для нескольких значений df= (5,10, 20, 40) и $\\mathcal{N}(0,1)$. В чем отличия?"
   ]
  },
  {
   "cell_type": "code",
   "execution_count": 31,
   "metadata": {},
   "outputs": [
    {
     "data": {
      "text/plain": [
       "<matplotlib.legend.Legend at 0x7f056c2ff7f0>"
      ]
     },
     "execution_count": 31,
     "metadata": {},
     "output_type": "execute_result"
    },
    {
     "data": {
      "image/png": "[encoded data removed]",
      "text/plain": [
       "<Figure size 864x432 with 1 Axes>"
      ]
     },
     "metadata": {
      "needs_background": "light"
     },
     "output_type": "display_data"
    }
   ],
   "source": [
    "#your code here\n",
    "\n",
    "t_rv5 = sts.t(5)\n",
    "t_rv10 = sts.t(10)\n",
    "t_rv20 = sts.t(20)\n",
    "t_rv40 = sts.t(40)\n",
    "x = np.linspace(-4, 4, 100)\n",
    "\n",
    "plt.figure(figsize=(12,6))\n",
    "\n",
    "pdf = t_rv5.pdf(x)\n",
    "plt.plot(x, pdf)\n",
    "pdf_2 = t_rv10.pdf(x)\n",
    "plt.plot(x, pdf_2)\n",
    "pdf_3 = t_rv20.pdf(x)\n",
    "plt.plot(x, pdf_3)\n",
    "pdf_4 = t_rv40.pdf(x)\n",
    "plt.plot(x, pdf_4)\n",
    "\n",
    "plt.legend(['Student df=5', 'Student df=10', 'Student df=20', 'Student df=40'])\n",
    "\n",
    "# Распределения Стьюдента с большим числом степеней свобод обладают большей кучностью относительно центра распределения"
   ]
  },
  {
   "cell_type": "markdown",
   "metadata": {},
   "source": [
    "- Постройте две выборки, чтобы их корреляция была равна -1. Изобразите зависимость на графике."
   ]
  },
  {
   "cell_type": "code",
   "execution_count": 6,
   "metadata": {},
   "outputs": [
    {
     "name": "stdout",
     "output_type": "stream",
     "text": [
      "<seaborn.axisgrid.PairGrid object at 0x7ff278fa03c8>      a    b\n",
      "a  1.0 -1.0\n",
      "b -1.0  1.0\n"
     ]
    },
    {
     "data": {
      "image/png": "[encoded data removed]",
      "text/plain": [
       "<Figure size 360x360 with 6 Axes>"
      ]
     },
     "metadata": {
      "needs_background": "light"
     },
     "output_type": "display_data"
    }
   ],
   "source": [
    "#your code here\n",
    "a =[1,2,3,4,5,6,7,8,9,5,3]\n",
    "b =[30,29,28,27,26,25,24,23,22,26,28] \n",
    "\n",
    "data = pd.DataFrame()\n",
    "data['a'] = a\n",
    "data['b'] = b\n",
    "\n",
    "print(sns.pairplot(data), data.corr())\n"
   ]
  },
  {
   "cell_type": "markdown",
   "metadata": {},
   "source": [
    "- Постройте две выборки, чтобы их корреляция была равна 0. Изобразите зависимость на графике."
   ]
  },
  {
   "cell_type": "code",
   "execution_count": 16,
   "metadata": {},
   "outputs": [
    {
     "name": "stdout",
     "output_type": "stream",
     "text": [
      "<seaborn.axisgrid.PairGrid object at 0x7ff278896710>      a    b\n",
      "a  1.0  0.0\n",
      "b  0.0  1.0\n"
     ]
    },
    {
     "data": {
      "image/png": "[encoded data removed]",
      "text/plain": [
       "<Figure size 360x360 with 6 Axes>"
      ]
     },
     "metadata": {
      "needs_background": "light"
     },
     "output_type": "display_data"
    }
   ],
   "source": [
    "#your code here\n",
    "a =[11,10,9,10,121,10,9,10,]\n",
    "b =[10,11,10,9,10,11,10,9,] \n",
    "\n",
    "data = pd.DataFrame()\n",
    "data['a'] = a\n",
    "data['b'] = b\n",
    "\n",
    "print(sns.pairplot(data), data.corr())\n"
   ]
  },
  {
   "cell_type": "markdown",
   "metadata": {},
   "source": [
    "- Сгенерируйте 2 выборки из $\\mathcal{N}(4,2)$, посчитайте их общий ранг и сумму рангов в каждой выборке."
   ]
  },
  {
   "cell_type": "code",
   "execution_count": 29,
   "metadata": {},
   "outputs": [
    {
     "name": "stdout",
     "output_type": "stream",
     "text": [
      "Ранг выборки 1 = 9706 Ранг выборки 2 = 10194 Сумма рангов = 19900\n"
     ]
    }
   ],
   "source": [
    "norm_rv = stats.norm(4,2)\n",
    "sample_1 = norm_rv.rvs(100)\n",
    "sample_2 = norm_rv.rvs(100)\n",
    "sample = np.concatenate((sample_1, sample_2))\n",
    "\n",
    "sample_ord = sorted(sample)\n",
    "sample_1_r = 0\n",
    "sample_2_r = 0\n",
    "for i in range (0,len(sample_ord)):\n",
    "    if sample_ord[i] in sample_1:\n",
    "        sample_1_r += i\n",
    "    else: \n",
    "        sample_2_r += i\n",
    "print('Ранг выборки 1 =', sample_1_r, 'Ранг выборки 2 =',sample_2_r, 'Сумма рангов =', sample_1_r+sample_2_r )"
   ]
  },
  {
   "cell_type": "code",
   "execution_count": null,
   "metadata": {},
   "outputs": [],
   "source": []
  }
 ],
 "metadata": {
  "kernelspec": {
   "display_name": "Python 3",
   "language": "python",
   "name": "python3"
  },
  "language_info": {
   "codemirror_mode": {
    "name": "ipython",
    "version": 3
   },
   "file_extension": ".py",
   "mimetype": "text/x-python",
   "name": "python",
   "nbconvert_exporter": "python",
   "pygments_lexer": "ipython3",
   "version": "3.7.1"
  }
 },
 "nbformat": 4,
 "nbformat_minor": 2
}
