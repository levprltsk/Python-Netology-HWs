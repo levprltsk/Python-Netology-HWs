{
 "cells": [
  {
   "cell_type": "code",
   "execution_count": 1,
   "metadata": {},
   "outputs": [
    {
     "name": "stdout",
     "output_type": "stream",
     "text": [
      "103\n"
     ]
    }
   ],
   "source": [
    "\"\"\"\n",
    "Задание 1\n",
    "Дан список вида:\n",
    "data = [\n",
    "    [13, 25, 23, 34],\n",
    "    [45, 32, 44, 47],\n",
    "    [12, 33, 23, 95],\n",
    "    [13, 53, 34, 35],\n",
    "]\n",
    "Напишите функцию, которая возвращает сумму элементов на диагонали. Т. е. 13+32+23+35.\n",
    "\"\"\"\n",
    "\n",
    "data = [\n",
    "    [13, 25, 23, 34],\n",
    "    [45, 32, 44, 47],\n",
    "    [12, 33, 23, 95],\n",
    "    [13, 53, 34, 35],\n",
    "]\n",
    "\n",
    "def diagonal_sum(matrix):\n",
    "    i = 0\n",
    "    diagsum = 0\n",
    "    while i < int(len(matrix)):\n",
    "        diagsum += int(data[i][i])\n",
    "        i += 1\n",
    "    return diagsum\n",
    "\n",
    "print (diagonal_sum(data))"
   ]
  },
  {
   "cell_type": "code",
   "execution_count": 15,
   "metadata": {},
   "outputs": [
    {
     "name": "stdout",
     "output_type": "stream",
     "text": [
      "430\n"
     ]
    }
   ],
   "source": [
    "\"\"\"\n",
    "Задание 2\n",
    "Дан список чисел, часть из которых имеют строковый тип или содержат буквы. \n",
    "Напишите функцию, которая возвращает сумму квадратов элементов, которые могут быть числами.\n",
    "\"\"\"\n",
    "data = [1, '5', 'abc', 20, '2']\n",
    "\n",
    "def num_square(line):\n",
    "    i=0\n",
    "    square_line = 0\n",
    "    while i < len(line):\n",
    "        if str.isnumeric(str(line[i])):\n",
    "            square_line += int(line[i])**2\n",
    "            i += 1\n",
    "        else:\n",
    "            i += 1\n",
    "    return square_line\n",
    "                               \n",
    "print (num_square(data))"
   ]
  },
  {
   "cell_type": "code",
   "execution_count": 26,
   "metadata": {},
   "outputs": [
    {
     "ename": "TypeError",
     "evalue": "make_format() missing 1 required positional argument: 'currency'",
     "output_type": "error",
     "traceback": [
      "\u001b[0;31m---------------------------------------------------------------------------\u001b[0m",
      "\u001b[0;31mTypeError\u001b[0m                                 Traceback (most recent call last)",
      "\u001b[0;32m<ipython-input-26-04e23f09f42d>\u001b[0m in \u001b[0;36m<module>\u001b[0;34m()\u001b[0m\n\u001b[1;32m     32\u001b[0m \u001b[0;34m\u001b[0m\u001b[0m\n\u001b[1;32m     33\u001b[0m \u001b[0mcurr\u001b[0m\u001b[0;34m=\u001b[0m\u001b[0mRate\u001b[0m\u001b[0;34m(\u001b[0m\u001b[0;34m)\u001b[0m\u001b[0;34m\u001b[0m\u001b[0m\n\u001b[0;32m---> 34\u001b[0;31m \u001b[0mcurr\u001b[0m\u001b[0;34m.\u001b[0m\u001b[0mmake_format\u001b[0m\u001b[0;34m(\u001b[0m\u001b[0;34m)\u001b[0m\u001b[0;34m\u001b[0m\u001b[0m\n\u001b[0m",
      "\u001b[0;31mTypeError\u001b[0m: make_format() missing 1 required positional argument: 'currency'"
     ]
    }
   ],
   "source": [
    "\"\"\"\n",
    "Задание 3\n",
    "Напишите функцию, которая возвращает название валюты (поле 'Name') с максимальным значением курса \n",
    "с помощью сервиса https://www.cbr-xml-daily.ru/daily_json.js\n",
    "\"\"\"\n",
    "\"\"\"\n",
    "import requests\n",
    "\n",
    "class Rate:\n",
    "    def __init__(self, format='value'):\n",
    "        self.format = format\n",
    "    \n",
    "    def exchange_rates(self):\n",
    "        r = requests.get('https://www.cbr-xml-daily.ru/daily_json.js')\n",
    "        return r.json()['Valute']\n",
    "  \n",
    "      \n",
    "    def make_format(self, currency):\n",
    "        response = self.exchange_rates()\n",
    "       \n",
    "        if currency in response:\n",
    "            if self.format == 'full':\n",
    "                return response[currency]\n",
    "            \n",
    "            if self.format == 'value':\n",
    "                return response[currency]['Value']\n",
    "        \n",
    "        return 'Error'\n",
    "    \n",
    "    def usd(self):\n",
    "        return self.make_format('USD')\n",
    "    \n",
    "    def most_expensive_valute(self)\n",
    "    \n",
    "    \n",
    "curr=Rate()\n",
    "curr.most_expensive_valute()\n",
    "\"\"\""
   ]
  },
  {
   "cell_type": "code",
   "execution_count": 160,
   "metadata": {},
   "outputs": [
    {
     "name": "stdout",
     "output_type": "stream",
     "text": [
      "5 5\n",
      "8 3\n",
      "10 2\n",
      "11 1\n",
      "12 1\n",
      "12\n"
     ]
    }
   ],
   "source": [
    "\"\"\"\n",
    "Задание 5\n",
    "Напишите функцию, возвращающую сумму первых n чисел Фибоначчи\n",
    "\"\"\"\n",
    "def sum_of_n_fib(n):\n",
    "    func_sum_fib = 0 \n",
    "    fib = lambda n: fib(n - 1) + fib(n - 2) if n > 2 else 1\n",
    "    if n > 2:\n",
    "        while n > 0: \n",
    "            func_sum_fib += fib(n)\n",
    "            print(func_sum_fib, fib(n))\n",
    "            n -= 1\n",
    "        return (func_sum_fib)\n",
    "    elif 2 >= n > 1:\n",
    "        return 2\n",
    "    elif 1 >= n > 0:\n",
    "        return 1 \n",
    "    else:\n",
    "        return 0 \n",
    "print (sum_of_n_fib(5))"
   ]
  },
  {
   "cell_type": "code",
   "execution_count": 149,
   "metadata": {},
   "outputs": [
    {
     "name": "stdout",
     "output_type": "stream",
     "text": [
      "21\n"
     ]
    }
   ],
   "source": [
    "fib = lambda n: fib(n - 1) + fib(n - 2) if n > 2 else 1\n",
    "\n",
    "print (fib(8))"
   ]
  }
 ],
 "metadata": {
  "kernelspec": {
   "display_name": "Python 3",
   "language": "python",
   "name": "python3"
  },
  "language_info": {
   "codemirror_mode": {
    "name": "ipython",
    "version": 3
   },
   "file_extension": ".py",
   "mimetype": "text/x-python",
   "name": "python",
   "nbconvert_exporter": "python",
   "pygments_lexer": "ipython3",
   "version": "3.7.0"
  }
 },
 "nbformat": 4,
 "nbformat_minor": 2
}
