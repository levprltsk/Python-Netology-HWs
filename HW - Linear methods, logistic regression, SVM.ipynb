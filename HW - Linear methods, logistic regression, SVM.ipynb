{
 "cells": [
  {
   "cell_type": "markdown",
   "metadata": {},
   "source": [
    "Целевой переменной является уровень дохода income (крайний правый столбец).\n",
    "Вам необходимо построить модель логистической регрессии, которая предсказывает уровень дохода человека. При возможности попробуйте улучшить точность предсказаний (метод score) с помощью перебора признаков.\n"
   ]
  },
  {
   "cell_type": "code",
   "execution_count": 1,
   "metadata": {},
   "outputs": [],
   "source": [
    "import pandas as pd\n",
    "import numpy as np\n",
    "import matplotlib.pyplot as plt\n",
    "%matplotlib inline\n",
    "from sklearn.linear_model import LogisticRegression\n",
    "from sklearn.linear_model import LinearRegression, Ridge, Lasso\n",
    "from sklearn.model_selection import train_test_split\n",
    "from sklearn.metrics import classification_report\n",
    "import numpy as np\n",
    "import random\n",
    "from sklearn.datasets.samples_generator import make_regression \n",
    "import pylab\n",
    "from scipy import stats\n",
    "from sklearn import linear_model"
   ]
  },
  {
   "cell_type": "code",
   "execution_count": 2,
   "metadata": {},
   "outputs": [
    {
     "data": {
      "text/html": [
       "<div>\n",
       "<style scoped>\n",
       "    .dataframe tbody tr th:only-of-type {\n",
       "        vertical-align: middle;\n",
       "    }\n",
       "\n",
       "    .dataframe tbody tr th {\n",
       "        vertical-align: top;\n",
       "    }\n",
       "\n",
       "    .dataframe thead th {\n",
       "        text-align: right;\n",
       "    }\n",
       "</style>\n",
       "<table border=\"1\" class=\"dataframe\">\n",
       "  <thead>\n",
       "    <tr style=\"text-align: right;\">\n",
       "      <th></th>\n",
       "      <th>age</th>\n",
       "      <th>workclass</th>\n",
       "      <th>fnlwgt</th>\n",
       "      <th>education</th>\n",
       "      <th>educational-num</th>\n",
       "      <th>marital-status</th>\n",
       "      <th>occupation</th>\n",
       "      <th>relationship</th>\n",
       "      <th>race</th>\n",
       "      <th>gender</th>\n",
       "      <th>capital-gain</th>\n",
       "      <th>capital-loss</th>\n",
       "      <th>hours-per-week</th>\n",
       "      <th>native-country</th>\n",
       "      <th>income</th>\n",
       "    </tr>\n",
       "  </thead>\n",
       "  <tbody>\n",
       "    <tr>\n",
       "      <th>0</th>\n",
       "      <td>25</td>\n",
       "      <td>Private</td>\n",
       "      <td>226802</td>\n",
       "      <td>11th</td>\n",
       "      <td>7</td>\n",
       "      <td>Never-married</td>\n",
       "      <td>Machine-op-inspct</td>\n",
       "      <td>Own-child</td>\n",
       "      <td>Black</td>\n",
       "      <td>Male</td>\n",
       "      <td>0</td>\n",
       "      <td>0</td>\n",
       "      <td>40</td>\n",
       "      <td>United-States</td>\n",
       "      <td>&lt;=50K</td>\n",
       "    </tr>\n",
       "    <tr>\n",
       "      <th>1</th>\n",
       "      <td>38</td>\n",
       "      <td>Private</td>\n",
       "      <td>89814</td>\n",
       "      <td>HS-grad</td>\n",
       "      <td>9</td>\n",
       "      <td>Married-civ-spouse</td>\n",
       "      <td>Farming-fishing</td>\n",
       "      <td>Husband</td>\n",
       "      <td>White</td>\n",
       "      <td>Male</td>\n",
       "      <td>0</td>\n",
       "      <td>0</td>\n",
       "      <td>50</td>\n",
       "      <td>United-States</td>\n",
       "      <td>&lt;=50K</td>\n",
       "    </tr>\n",
       "    <tr>\n",
       "      <th>2</th>\n",
       "      <td>28</td>\n",
       "      <td>Local-gov</td>\n",
       "      <td>336951</td>\n",
       "      <td>Assoc-acdm</td>\n",
       "      <td>12</td>\n",
       "      <td>Married-civ-spouse</td>\n",
       "      <td>Protective-serv</td>\n",
       "      <td>Husband</td>\n",
       "      <td>White</td>\n",
       "      <td>Male</td>\n",
       "      <td>0</td>\n",
       "      <td>0</td>\n",
       "      <td>40</td>\n",
       "      <td>United-States</td>\n",
       "      <td>&gt;50K</td>\n",
       "    </tr>\n",
       "    <tr>\n",
       "      <th>3</th>\n",
       "      <td>44</td>\n",
       "      <td>Private</td>\n",
       "      <td>160323</td>\n",
       "      <td>Some-college</td>\n",
       "      <td>10</td>\n",
       "      <td>Married-civ-spouse</td>\n",
       "      <td>Machine-op-inspct</td>\n",
       "      <td>Husband</td>\n",
       "      <td>Black</td>\n",
       "      <td>Male</td>\n",
       "      <td>7688</td>\n",
       "      <td>0</td>\n",
       "      <td>40</td>\n",
       "      <td>United-States</td>\n",
       "      <td>&gt;50K</td>\n",
       "    </tr>\n",
       "    <tr>\n",
       "      <th>4</th>\n",
       "      <td>18</td>\n",
       "      <td>?</td>\n",
       "      <td>103497</td>\n",
       "      <td>Some-college</td>\n",
       "      <td>10</td>\n",
       "      <td>Never-married</td>\n",
       "      <td>?</td>\n",
       "      <td>Own-child</td>\n",
       "      <td>White</td>\n",
       "      <td>Female</td>\n",
       "      <td>0</td>\n",
       "      <td>0</td>\n",
       "      <td>30</td>\n",
       "      <td>United-States</td>\n",
       "      <td>&lt;=50K</td>\n",
       "    </tr>\n",
       "  </tbody>\n",
       "</table>\n",
       "</div>"
      ],
      "text/plain": [
       "   age  workclass  fnlwgt     education  educational-num      marital-status  \\\n",
       "0   25    Private  226802          11th                7       Never-married   \n",
       "1   38    Private   89814       HS-grad                9  Married-civ-spouse   \n",
       "2   28  Local-gov  336951    Assoc-acdm               12  Married-civ-spouse   \n",
       "3   44    Private  160323  Some-college               10  Married-civ-spouse   \n",
       "4   18          ?  103497  Some-college               10       Never-married   \n",
       "\n",
       "          occupation relationship   race  gender  capital-gain  capital-loss  \\\n",
       "0  Machine-op-inspct    Own-child  Black    Male             0             0   \n",
       "1    Farming-fishing      Husband  White    Male             0             0   \n",
       "2    Protective-serv      Husband  White    Male             0             0   \n",
       "3  Machine-op-inspct      Husband  Black    Male          7688             0   \n",
       "4                  ?    Own-child  White  Female             0             0   \n",
       "\n",
       "   hours-per-week native-country income  \n",
       "0              40  United-States  <=50K  \n",
       "1              50  United-States  <=50K  \n",
       "2              40  United-States   >50K  \n",
       "3              40  United-States   >50K  \n",
       "4              30  United-States  <=50K  "
      ]
     },
     "execution_count": 2,
     "metadata": {},
     "output_type": "execute_result"
    }
   ],
   "source": [
    "data = pd.read_csv('adult.csv')\n",
    "data.head()"
   ]
  },
  {
   "cell_type": "markdown",
   "metadata": {},
   "source": [
    "Рассмотрим имеющиеся данные"
   ]
  },
  {
   "cell_type": "code",
   "execution_count": 3,
   "metadata": {},
   "outputs": [
    {
     "data": {
      "text/plain": [
       "Private             33906\n",
       "Self-emp-not-inc     3862\n",
       "Local-gov            3136\n",
       "?                    2799\n",
       "State-gov            1981\n",
       "Self-emp-inc         1695\n",
       "Federal-gov          1432\n",
       "Without-pay            21\n",
       "Never-worked           10\n",
       "Name: workclass, dtype: int64"
      ]
     },
     "execution_count": 3,
     "metadata": {},
     "output_type": "execute_result"
    }
   ],
   "source": [
    "data['workclass'].value_counts()"
   ]
  },
  {
   "cell_type": "code",
   "execution_count": 4,
   "metadata": {},
   "outputs": [
    {
     "data": {
      "text/plain": [
       "HS-grad         15784\n",
       "Some-college    10878\n",
       "Bachelors        8025\n",
       "Masters          2657\n",
       "Assoc-voc        2061\n",
       "11th             1812\n",
       "Assoc-acdm       1601\n",
       "10th             1389\n",
       "7th-8th           955\n",
       "Prof-school       834\n",
       "9th               756\n",
       "12th              657\n",
       "Doctorate         594\n",
       "5th-6th           509\n",
       "1st-4th           247\n",
       "Preschool          83\n",
       "Name: education, dtype: int64"
      ]
     },
     "execution_count": 4,
     "metadata": {},
     "output_type": "execute_result"
    }
   ],
   "source": [
    "data['education'].value_counts()"
   ]
  },
  {
   "cell_type": "code",
   "execution_count": 5,
   "metadata": {},
   "outputs": [
    {
     "data": {
      "text/plain": [
       "Married-civ-spouse       22379\n",
       "Never-married            16117\n",
       "Divorced                  6633\n",
       "Separated                 1530\n",
       "Widowed                   1518\n",
       "Married-spouse-absent      628\n",
       "Married-AF-spouse           37\n",
       "Name: marital-status, dtype: int64"
      ]
     },
     "execution_count": 5,
     "metadata": {},
     "output_type": "execute_result"
    }
   ],
   "source": [
    "data['marital-status'].value_counts()"
   ]
  },
  {
   "cell_type": "code",
   "execution_count": 6,
   "metadata": {},
   "outputs": [
    {
     "data": {
      "text/plain": [
       "Prof-specialty       6172\n",
       "Craft-repair         6112\n",
       "Exec-managerial      6086\n",
       "Adm-clerical         5611\n",
       "Sales                5504\n",
       "Other-service        4923\n",
       "Machine-op-inspct    3022\n",
       "?                    2809\n",
       "Transport-moving     2355\n",
       "Handlers-cleaners    2072\n",
       "Farming-fishing      1490\n",
       "Tech-support         1446\n",
       "Protective-serv       983\n",
       "Priv-house-serv       242\n",
       "Armed-Forces           15\n",
       "Name: occupation, dtype: int64"
      ]
     },
     "execution_count": 6,
     "metadata": {},
     "output_type": "execute_result"
    }
   ],
   "source": [
    "data['occupation'].value_counts()"
   ]
  },
  {
   "cell_type": "code",
   "execution_count": 7,
   "metadata": {},
   "outputs": [
    {
     "data": {
      "text/plain": [
       "Husband           19716\n",
       "Not-in-family     12583\n",
       "Own-child          7581\n",
       "Unmarried          5125\n",
       "Wife               2331\n",
       "Other-relative     1506\n",
       "Name: relationship, dtype: int64"
      ]
     },
     "execution_count": 7,
     "metadata": {},
     "output_type": "execute_result"
    }
   ],
   "source": [
    "data['relationship'].value_counts()"
   ]
  },
  {
   "cell_type": "code",
   "execution_count": 8,
   "metadata": {},
   "outputs": [
    {
     "data": {
      "text/plain": [
       "White                 41762\n",
       "Black                  4685\n",
       "Asian-Pac-Islander     1519\n",
       "Amer-Indian-Eskimo      470\n",
       "Other                   406\n",
       "Name: race, dtype: int64"
      ]
     },
     "execution_count": 8,
     "metadata": {},
     "output_type": "execute_result"
    }
   ],
   "source": [
    "data['race'].value_counts()"
   ]
  },
  {
   "cell_type": "code",
   "execution_count": 9,
   "metadata": {},
   "outputs": [
    {
     "data": {
      "text/plain": [
       "Male      32650\n",
       "Female    16192\n",
       "Name: gender, dtype: int64"
      ]
     },
     "execution_count": 9,
     "metadata": {},
     "output_type": "execute_result"
    }
   ],
   "source": [
    "data['gender'].value_counts()"
   ]
  },
  {
   "cell_type": "markdown",
   "metadata": {},
   "source": [
    "Выбрав, как мне кажется значимы данные применяю OHE"
   ]
  },
  {
   "cell_type": "code",
   "execution_count": 10,
   "metadata": {},
   "outputs": [],
   "source": [
    "X_dummies = pd.get_dummies(data.loc[:, ['gender', 'race', 'occupation', 'marital-status', 'education', 'workclass',]])"
   ]
  },
  {
   "cell_type": "code",
   "execution_count": 11,
   "metadata": {},
   "outputs": [
    {
     "name": "stdout",
     "output_type": "stream",
     "text": [
      "<class 'pandas.core.frame.DataFrame'>\n",
      "RangeIndex: 48842 entries, 0 to 48841\n",
      "Data columns (total 54 columns):\n",
      "gender_Female                           48842 non-null uint8\n",
      "gender_Male                             48842 non-null uint8\n",
      "race_Amer-Indian-Eskimo                 48842 non-null uint8\n",
      "race_Asian-Pac-Islander                 48842 non-null uint8\n",
      "race_Black                              48842 non-null uint8\n",
      "race_Other                              48842 non-null uint8\n",
      "race_White                              48842 non-null uint8\n",
      "occupation_?                            48842 non-null uint8\n",
      "occupation_Adm-clerical                 48842 non-null uint8\n",
      "occupation_Armed-Forces                 48842 non-null uint8\n",
      "occupation_Craft-repair                 48842 non-null uint8\n",
      "occupation_Exec-managerial              48842 non-null uint8\n",
      "occupation_Farming-fishing              48842 non-null uint8\n",
      "occupation_Handlers-cleaners            48842 non-null uint8\n",
      "occupation_Machine-op-inspct            48842 non-null uint8\n",
      "occupation_Other-service                48842 non-null uint8\n",
      "occupation_Priv-house-serv              48842 non-null uint8\n",
      "occupation_Prof-specialty               48842 non-null uint8\n",
      "occupation_Protective-serv              48842 non-null uint8\n",
      "occupation_Sales                        48842 non-null uint8\n",
      "occupation_Tech-support                 48842 non-null uint8\n",
      "occupation_Transport-moving             48842 non-null uint8\n",
      "marital-status_Divorced                 48842 non-null uint8\n",
      "marital-status_Married-AF-spouse        48842 non-null uint8\n",
      "marital-status_Married-civ-spouse       48842 non-null uint8\n",
      "marital-status_Married-spouse-absent    48842 non-null uint8\n",
      "marital-status_Never-married            48842 non-null uint8\n",
      "marital-status_Separated                48842 non-null uint8\n",
      "marital-status_Widowed                  48842 non-null uint8\n",
      "education_10th                          48842 non-null uint8\n",
      "education_11th                          48842 non-null uint8\n",
      "education_12th                          48842 non-null uint8\n",
      "education_1st-4th                       48842 non-null uint8\n",
      "education_5th-6th                       48842 non-null uint8\n",
      "education_7th-8th                       48842 non-null uint8\n",
      "education_9th                           48842 non-null uint8\n",
      "education_Assoc-acdm                    48842 non-null uint8\n",
      "education_Assoc-voc                     48842 non-null uint8\n",
      "education_Bachelors                     48842 non-null uint8\n",
      "education_Doctorate                     48842 non-null uint8\n",
      "education_HS-grad                       48842 non-null uint8\n",
      "education_Masters                       48842 non-null uint8\n",
      "education_Preschool                     48842 non-null uint8\n",
      "education_Prof-school                   48842 non-null uint8\n",
      "education_Some-college                  48842 non-null uint8\n",
      "workclass_?                             48842 non-null uint8\n",
      "workclass_Federal-gov                   48842 non-null uint8\n",
      "workclass_Local-gov                     48842 non-null uint8\n",
      "workclass_Never-worked                  48842 non-null uint8\n",
      "workclass_Private                       48842 non-null uint8\n",
      "workclass_Self-emp-inc                  48842 non-null uint8\n",
      "workclass_Self-emp-not-inc              48842 non-null uint8\n",
      "workclass_State-gov                     48842 non-null uint8\n",
      "workclass_Without-pay                   48842 non-null uint8\n",
      "dtypes: uint8(54)\n",
      "memory usage: 2.5 MB\n"
     ]
    }
   ],
   "source": [
    "X_dummies.info()"
   ]
  },
  {
   "cell_type": "code",
   "execution_count": 12,
   "metadata": {},
   "outputs": [],
   "source": [
    "y = data['income']"
   ]
  },
  {
   "cell_type": "code",
   "execution_count": 13,
   "metadata": {},
   "outputs": [],
   "source": [
    "X_train, X_test, y_train, y_test = train_test_split(X_dummies, y, test_size=0.2, random_state=42)"
   ]
  },
  {
   "cell_type": "code",
   "execution_count": 14,
   "metadata": {},
   "outputs": [],
   "source": [
    "model = LogisticRegression(C = 7)"
   ]
  },
  {
   "cell_type": "code",
   "execution_count": 15,
   "metadata": {},
   "outputs": [
    {
     "name": "stderr",
     "output_type": "stream",
     "text": [
      "/home/levprilutsky/anaconda3/lib/python3.7/site-packages/sklearn/linear_model/logistic.py:432: FutureWarning: Default solver will be changed to 'lbfgs' in 0.22. Specify a solver to silence this warning.\n",
      "  FutureWarning)\n"
     ]
    }
   ],
   "source": [
    "model.fit(X_train, y_train)\n",
    "y_pred = model.predict(X_test)"
   ]
  },
  {
   "cell_type": "code",
   "execution_count": 16,
   "metadata": {},
   "outputs": [
    {
     "name": "stdout",
     "output_type": "stream",
     "text": [
      "              precision    recall  f1-score   support\n",
      "\n",
      "       <=50K       0.87      0.93      0.90      7479\n",
      "        >50K       0.71      0.54      0.61      2290\n",
      "\n",
      "    accuracy                           0.84      9769\n",
      "   macro avg       0.79      0.73      0.76      9769\n",
      "weighted avg       0.83      0.84      0.83      9769\n",
      "\n"
     ]
    }
   ],
   "source": [
    "print (classification_report(y_test, y_pred))"
   ]
  },
  {
   "cell_type": "code",
   "execution_count": 17,
   "metadata": {},
   "outputs": [],
   "source": [
    "y_pred_proba = model.predict_proba(X_test).tolist()"
   ]
  },
  {
   "cell_type": "code",
   "execution_count": 18,
   "metadata": {},
   "outputs": [
    {
     "data": {
      "text/plain": [
       "[0.9819706285564144, 0.018029371443585594]"
      ]
     },
     "execution_count": 18,
     "metadata": {},
     "output_type": "execute_result"
    }
   ],
   "source": [
    "y_pred_proba[0]"
   ]
  },
  {
   "cell_type": "code",
   "execution_count": null,
   "metadata": {},
   "outputs": [],
   "source": []
  },
  {
   "cell_type": "code",
   "execution_count": 19,
   "metadata": {},
   "outputs": [
    {
     "name": "stderr",
     "output_type": "stream",
     "text": [
      "/home/levprilutsky/.local/lib/python3.7/site-packages/ipykernel_launcher.py:1: SettingWithCopyWarning: \n",
      "A value is trying to be set on a copy of a slice from a DataFrame\n",
      "\n",
      "See the caveats in the documentation: http://pandas.pydata.org/pandas-docs/stable/indexing.html#indexing-view-versus-copy\n",
      "  \"\"\"Entry point for launching an IPython kernel.\n",
      "/home/levprilutsky/.local/lib/python3.7/site-packages/ipykernel_launcher.py:2: SettingWithCopyWarning: \n",
      "A value is trying to be set on a copy of a slice from a DataFrame\n",
      "\n",
      "See the caveats in the documentation: http://pandas.pydata.org/pandas-docs/stable/indexing.html#indexing-view-versus-copy\n",
      "  \n"
     ]
    }
   ],
   "source": [
    "data.income[data.income == '<=50K'] = 0\n",
    "data.income[data.income == '>50K'] = 1"
   ]
  },
  {
   "cell_type": "markdown",
   "metadata": {},
   "source": [
    "Попробуем использовать градиентный спуск\n"
   ]
  },
  {
   "cell_type": "code",
   "execution_count": 20,
   "metadata": {},
   "outputs": [
    {
     "data": {
      "text/html": [
       "<div>\n",
       "<style scoped>\n",
       "    .dataframe tbody tr th:only-of-type {\n",
       "        vertical-align: middle;\n",
       "    }\n",
       "\n",
       "    .dataframe tbody tr th {\n",
       "        vertical-align: top;\n",
       "    }\n",
       "\n",
       "    .dataframe thead th {\n",
       "        text-align: right;\n",
       "    }\n",
       "</style>\n",
       "<table border=\"1\" class=\"dataframe\">\n",
       "  <thead>\n",
       "    <tr style=\"text-align: right;\">\n",
       "      <th></th>\n",
       "      <th>gender_Female</th>\n",
       "      <th>race_White</th>\n",
       "      <th>education_HS-grad</th>\n",
       "      <th>occupation_Exec-managerial</th>\n",
       "    </tr>\n",
       "  </thead>\n",
       "  <tbody>\n",
       "    <tr>\n",
       "      <th>0</th>\n",
       "      <td>0</td>\n",
       "      <td>0</td>\n",
       "      <td>0</td>\n",
       "      <td>0</td>\n",
       "    </tr>\n",
       "    <tr>\n",
       "      <th>1</th>\n",
       "      <td>0</td>\n",
       "      <td>1</td>\n",
       "      <td>1</td>\n",
       "      <td>0</td>\n",
       "    </tr>\n",
       "    <tr>\n",
       "      <th>2</th>\n",
       "      <td>0</td>\n",
       "      <td>1</td>\n",
       "      <td>0</td>\n",
       "      <td>0</td>\n",
       "    </tr>\n",
       "  </tbody>\n",
       "</table>\n",
       "</div>"
      ],
      "text/plain": [
       "   gender_Female  race_White  education_HS-grad  occupation_Exec-managerial\n",
       "0              0           0                  0                           0\n",
       "1              0           1                  1                           0\n",
       "2              0           1                  0                           0"
      ]
     },
     "execution_count": 20,
     "metadata": {},
     "output_type": "execute_result"
    }
   ],
   "source": [
    "y=data.income\n",
    "x=X_dummies[['gender_Female','race_White','education_HS-grad','occupation_Exec-managerial']]\n",
    "x.head(3)"
   ]
  },
  {
   "cell_type": "code",
   "execution_count": null,
   "metadata": {},
   "outputs": [],
   "source": []
  },
  {
   "cell_type": "code",
   "execution_count": 21,
   "metadata": {},
   "outputs": [
    {
     "data": {
      "image/png": "[encoded data removed]",
      "text/plain": [
       "<Figure size 432x288 with 1 Axes>"
      ]
     },
     "metadata": {
      "needs_background": "light"
     },
     "output_type": "display_data"
    }
   ],
   "source": [
    "pylab.plot(x, y, 'o')\n",
    "pylab.show()"
   ]
  },
  {
   "cell_type": "code",
   "execution_count": 22,
   "metadata": {},
   "outputs": [
    {
     "data": {
      "text/plain": [
       "(48842, 4)"
      ]
     },
     "execution_count": 22,
     "metadata": {},
     "output_type": "execute_result"
    }
   ],
   "source": [
    "# размер данных\n",
    "\n",
    "m, n = np.shape(x)\n",
    "m, n"
   ]
  },
  {
   "cell_type": "code",
   "execution_count": 23,
   "metadata": {},
   "outputs": [
    {
     "data": {
      "text/plain": [
       "array([[1., 0., 0., 0., 0.],\n",
       "       [1., 0., 1., 1., 0.],\n",
       "       [1., 0., 1., 0., 0.],\n",
       "       [1., 0., 0., 0., 0.],\n",
       "       [1., 1., 1., 0., 0.]])"
      ]
     },
     "execution_count": 23,
     "metadata": {},
     "output_type": "execute_result"
    }
   ],
   "source": [
    "# преобразуем x к следующему виду\n",
    "x = np.c_[ np.ones(m), x]\n",
    "x[:5]"
   ]
  },
  {
   "cell_type": "code",
   "execution_count": 24,
   "metadata": {},
   "outputs": [
    {
     "data": {
      "text/plain": [
       "0    0\n",
       "1    0\n",
       "2    1\n",
       "3    1\n",
       "4    0\n",
       "Name: income, dtype: int64"
      ]
     },
     "execution_count": 24,
     "metadata": {},
     "output_type": "execute_result"
    }
   ],
   "source": [
    "# y лист значений\n",
    "y=y.astype('int')\n",
    "y[:5]"
   ]
  },
  {
   "cell_type": "code",
   "execution_count": 25,
   "metadata": {},
   "outputs": [],
   "source": [
    "# шаг алгоритма\n",
    "alpha = 0.00007"
   ]
  },
  {
   "cell_type": "code",
   "execution_count": 26,
   "metadata": {},
   "outputs": [],
   "source": [
    "def gradient_descent_2(alpha, x, y, numIterations):\n",
    "    \"\"\"\n",
    "    Функция реализует алгоритм градиентного спуска. На каждом шаге выводится значение функции потерь\n",
    "    \"\"\"\n",
    "    \n",
    "    m = x.shape[0] # 100\n",
    "    theta = np.ones(5) # [ 1.  1.]\n",
    "    x_transpose = x.transpose() # транспонированная матрица x\n",
    "    \n",
    "    for iter in range( 0, numIterations ):\n",
    "        hypothesis = 1/(1+np.exp(-(np.dot(x, theta)))) # наш прогнозный таргет\n",
    "        \n",
    "        logloss = -y*np.log(hypothesis) - (1-y)*np.log(1-hypothesis)       \n",
    "        J = np.sum(logloss)/(m) \n",
    "        print(\"J : \", J)    \n",
    "        gradient = (hypothesis-y)@x         \n",
    "        theta = theta - alpha * gradient \n",
    "    \n",
    "    return theta"
   ]
  },
  {
   "cell_type": "code",
   "execution_count": 27,
   "metadata": {},
   "outputs": [
    {
     "name": "stdout",
     "output_type": "stream",
     "text": [
      "J :  2.1194938508005228\n",
      "J :  0.6098457392979814\n",
      "J :  0.5468135580529121\n",
      "J :  0.5353909870249581\n",
      "J :  0.5269133998791548\n",
      "J :  0.5205043905496705\n",
      "J :  0.515614707243348\n",
      "J :  0.5118506840104347\n",
      "J :  0.5089281860443756\n",
      "J :  0.5066405970405182\n",
      "J :  0.504836402304588\n",
      "J :  0.5034034473287534\n",
      "J :  0.5022579222564528\n",
      "J :  0.5013366179037806\n",
      "J :  0.5005914427015361\n",
      "J :  0.49998550590646373\n",
      "J :  0.49949029284593616\n",
      "J :  0.4990836078594162\n",
      "J :  0.49874806193123405\n",
      "J :  0.4984699505129427\n",
      "J :  0.4982384135528262\n",
      "J :  0.498044801557446\n",
      "J :  0.4978821934374015\n",
      "J :  0.49774502714100055\n",
      "J :  0.49762881478571974\n",
      "J :  0.49752992158251763\n",
      "J :  0.4974453932711526\n",
      "J :  0.4973728206963886\n",
      "J :  0.49731023300080424\n",
      "J :  0.4972560129973161\n",
      "J :  0.4972088298276886\n",
      "J :  0.4971675851626736\n",
      "J :  0.4971313700615823\n",
      "J :  0.49709943026019826\n",
      "J :  0.49707113815078124\n",
      "J :  0.4970459700962835\n",
      "J :  0.49702348801186963\n",
      "J :  0.4970033243717762\n",
      "J :  0.4969851699743678\n",
      "J :  0.49696876393472594\n",
      "J :  0.4969538854811727\n",
      "J :  0.4969403472164431\n",
      "J :  0.4969279895709183\n",
      "J :  0.4969166762282573\n",
      "J :  0.49690629034593825\n",
      "J :  0.4968967314269257\n",
      "J :  0.49688791272570043\n",
      "J :  0.4968797590936198\n",
      "J :  0.49687220518609776\n",
      "J :  0.4968651939682582\n",
      "J :  0.4968586754671951\n",
      "J :  0.4968526057282963\n",
      "J :  0.49684694594067436\n",
      "J :  0.4968416617029453\n",
      "J :  0.4968367224056444\n",
      "J :  0.49683210071071787\n",
      "J :  0.49682777211191864\n",
      "J :  0.49682371456272667\n",
      "J :  0.4968199081607062\n",
      "J :  0.4968163348791025\n",
      "J :  0.49681297833803645\n",
      "J :  0.4968098236089476\n",
      "J :  0.49680685704699185\n",
      "J :  0.49680406614699063\n",
      "J :  0.4968014394192486\n",
      "J :  0.49679896628216885\n",
      "J :  0.4967966369690951\n",
      "J :  0.49679444244722715\n",
      "J :  0.4967923743468062\n",
      "J :  0.4967904248990536\n",
      "J :  0.49678858688159033\n",
      "J :  0.49678685357026275\n",
      "J :  0.49678521869647335\n",
      "J :  0.49678367640925036\n",
      "J :  0.4967822212414129\n",
      "J :  0.49678084807928163\n",
      "J :  0.4967795521354737\n",
      "J :  0.4967783289243842\n",
      "J :  0.4967771742400197\n",
      "J :  0.49677608413589486\n",
      "J :  0.4967750549067462\n",
      "J :  0.49677408307185267\n",
      "J :  0.4967731653597797\n",
      "J :  0.4967722986943918\n",
      "J :  0.49677148018199574\n",
      "J :  0.49677070709949855\n",
      "J :  0.49676997688347696\n",
      "J :  0.4967692871200687\n",
      "J :  0.49676863553560696\n",
      "J :  0.49676801998793046\n",
      "J :  0.4967674384583071\n",
      "J :  0.49676688904391697\n",
      "J :  0.49676636995084933\n",
      "J :  0.4967658794875679\n",
      "J :  0.4967654160588098\n",
      "J :  0.4967649781598805\n",
      "J :  0.4967645643713174\n",
      "J :  0.4967641733538925\n",
      "J :  0.4967638038439295\n",
      "J :  0.4967634546489126\n",
      "J :  0.4967631246433669\n",
      "J :  0.49676281276499085\n",
      "J :  0.4967625180110236\n",
      "J :  0.4967622394348306\n",
      "J :  0.4967619761426964\n",
      "J :  0.49676172729080564\n",
      "J :  0.4967614920824047\n",
      "J :  0.49676126976513013\n",
      "J :  0.49676105962849376\n",
      "J :  0.4967608610015151\n",
      "J :  0.4967606732504914\n",
      "J :  0.4967604957768967\n",
      "J :  0.4967603280154031\n",
      "J :  0.4967601694320154\n",
      "J :  0.49676001952231275\n",
      "J :  0.49675987780979175\n",
      "J :  0.4967597438443045\n",
      "J :  0.49675961720058404\n",
      "J :  0.49675949747685605\n",
      "J :  0.49675938429352723\n",
      "J :  0.4967592772919499\n",
      "J :  0.49675917613325515\n",
      "J :  0.4967590804972528\n",
      "J :  0.49675899008139274\n",
      "J :  0.49675890459978544\n",
      "J :  0.49675882378227715\n",
      "J :  0.4967587473735772\n",
      "J :  0.4967586751324343\n",
      "J :  0.4967586068308587\n",
      "J :  0.4967585422533888\n",
      "J :  0.49675848119639715\n",
      "J :  0.4967584234674374\n",
      "J :  0.49675836888462566\n",
      "J :  0.4967583172760578\n",
      "J :  0.49675826847925814\n",
      "J :  0.49675822234066014\n",
      "J :  0.49675817871511413\n",
      "J :  0.49675813746542424\n",
      "J :  0.4967580984619106\n",
      "J :  0.4967580615819947\n",
      "J :  0.49675802670980873\n",
      "J :  0.49675799373582713\n",
      "J :  0.4967579625565171\n",
      "J :  0.4967579330740096\n",
      "J :  0.4967579051957881\n",
      "J :  0.4967578788343942\n",
      "J :  0.496757853907151\n",
      "J :  0.49675783033589926\n",
      "J :  0.4967578080467508\n",
      "J :  0.49675778696985323\n",
      "J :  0.49675776703916974\n",
      "J :  0.4967577481922687\n",
      "J :  0.4967577303701274\n",
      "J :  0.4967577135169441\n",
      "J :  0.4967576975799629\n",
      "J :  0.49675768250930596\n",
      "J :  0.49675766825781653\n",
      "J :  0.4967576547809096\n",
      "J :  0.49675764203643197\n",
      "J :  0.49675762998452827\n",
      "J :  0.49675761858751666\n",
      "J :  0.4967576078097682\n",
      "J :  0.4967575976175964\n",
      "J :  0.49675758797915004\n",
      "J :  0.4967575788643134\n",
      "J :  0.4967575702446112\n",
      "J :  0.49675756209311905\n",
      "J :  0.49675755438437913\n",
      "J :  0.4967575470943196\n",
      "J :  0.4967575402001797\n",
      "J :  0.49675753368043707\n",
      "J :  0.49675752751474134\n",
      "J :  0.4967575216838498\n",
      "J :  0.4967575161695666\n",
      "J :  0.4967575109546864\n",
      "J :  0.49675750602293983\n",
      "J :  0.49675750135894253\n",
      "J :  0.49675749694814725\n",
      "J :  0.49675749277679765\n",
      "J :  0.49675748883188586\n",
      "J :  0.4967574851011115\n",
      "J :  0.4967574815728429\n",
      "J :  0.4967574782360804\n",
      "J :  0.4967574750804234\n",
      "J :  0.4967574720960358\n",
      "J :  0.49675746927361664\n",
      "J :  0.4967574666043703\n",
      "J :  0.49675746407997945\n",
      "J :  0.4967574616925784\n",
      "J :  0.49675745943472954\n",
      "J :  0.4967574572993986\n",
      "J :  0.49675745527993426\n",
      "J :  0.49675745337004606\n",
      "J :  0.4967574515637857\n",
      "J :  0.4967574498555277\n",
      "J :  0.4967574482399523\n",
      "J :  0.4967574467120288\n",
      "J :  0.4967574452669996\n",
      "J :  0.4967574439003654\n",
      "J :  0.4967574426078716\n",
      "J :  0.4967574413854944\n",
      "J :  0.49675744022942847\n",
      "J :  0.49675743913607523\n",
      "J :  0.4967574381020316\n",
      "J :  0.496757437124079\n",
      "J :  0.49675743619917384\n",
      "J :  0.49675743532443756\n",
      "J :  0.4967574344971482\n",
      "J :  0.49675743371473113\n",
      "J :  0.4967574329747519\n",
      "J :  0.4967574322749079\n",
      "J :  0.49675743161302166\n",
      "J :  0.49675743098703373\n",
      "J :  0.49675743039499676\n",
      "J :  0.49675742983506876\n",
      "J :  0.496757429305508\n",
      "J :  0.496757428804667\n",
      "J :  0.4967574283309879\n",
      "J :  0.49675742788299704\n",
      "J :  0.49675742745930124\n",
      "J :  0.49675742705858256\n",
      "J :  0.4967574266795948\n",
      "J :  0.49675742632115893\n",
      "J :  0.49675742598216055\n",
      "J :  0.49675742566154507\n",
      "J :  0.4967574253583158\n",
      "J :  0.49675742507152937\n",
      "J :  0.49675742480029433\n",
      "J :  0.496757424543767\n",
      "J :  0.4967574243011497\n",
      "J :  0.49675742407168816\n",
      "J :  0.49675742385466887\n",
      "J :  0.496757423649417\n",
      "J :  0.49675742345529444\n",
      "J :  0.4967574232716977\n",
      "J :  0.49675742309805576\n",
      "J :  0.4967574229338289\n",
      "J :  0.49675742277850654\n",
      "J :  0.4967574226316058\n",
      "J :  0.4967574224926701\n",
      "J :  0.49675742236126735\n",
      "J :  0.4967574222369892\n",
      "J :  0.4967574221194492\n",
      "J :  0.49675742200828193\n",
      "J :  0.49675742190314204\n",
      "J :  0.4967574218037025\n",
      "J :  0.4967574217096543\n",
      "J :  0.49675742162070513\n",
      "J :  0.49675742153657854\n",
      "J :  0.496757421457013\n",
      "J :  0.4967574213817611\n",
      "J :  0.4967574213105889\n",
      "J :  0.49675742124327554\n",
      "J :  0.49675742117961164\n",
      "J :  0.4967574211193991\n",
      "J :  0.496757421062451\n",
      "J :  0.49675742100859027\n",
      "J :  0.4967574209576496\n",
      "J :  0.4967574209094706\n",
      "J :  0.4967574208639035\n",
      "J :  0.49675742082080687\n",
      "J :  0.49675742078004653\n",
      "J :  0.496757420741496\n",
      "J :  0.4967574207050353\n",
      "J :  0.4967574206705513\n",
      "J :  0.4967574206379367\n",
      "J :  0.4967574206070902\n",
      "J :  0.496757420577916\n",
      "J :  0.4967574205503234\n",
      "J :  0.49675742052422667\n",
      "J :  0.4967574204995445\n",
      "J :  0.49675742047620053\n",
      "J :  0.496757420454122\n",
      "J :  0.4967574204332404\n",
      "J :  0.4967574204134908\n",
      "J :  0.49675742039481185\n",
      "J :  0.49675742037714543\n",
      "J :  0.49675742036043674\n",
      "J :  0.49675742034463394\n",
      "J :  0.49675742032968767\n",
      "J :  0.49675742031555153\n",
      "J :  0.4967574203021819\n",
      "J :  0.496757420289537\n",
      "J :  0.49675742027757747\n",
      "J :  0.4967574202662663\n",
      "J :  0.4967574202555683\n",
      "J :  0.4967574202454504\n",
      "J :  0.49675742023588076\n",
      "J :  0.4967574202268299\n",
      "J :  0.49675742021826985\n",
      "J :  0.49675742021017366\n",
      "J :  0.49675742020251645\n",
      "J :  0.49675742019527425\n",
      "J :  0.49675742018842467\n",
      "J :  0.49675742018194635\n",
      "J :  0.4967574201758193\n",
      "J :  0.4967574201700243\n",
      "J :  0.49675742016454344\n",
      "J :  0.49675742015935975\n",
      "J :  0.49675742015445695\n",
      "J :  0.4967574201498201\n",
      "J :  0.49675742014543445\n",
      "J :  0.4967574201412866\n",
      "J :  0.49675742013736357\n",
      "J :  0.4967574201336532\n",
      "J :  0.4967574201301439\n",
      "J :  0.49675742012682494\n",
      "J :  0.4967574201236858\n",
      "J :  0.496757420120717\n",
      "J :  0.49675742011790885\n",
      "J :  0.4967574201152531\n",
      "J :  0.4967574201127413\n",
      "J :  0.49675742011036567\n",
      "J :  0.49675742010811874\n",
      "J :  0.4967574201059936\n",
      "J :  0.4967574201039839\n",
      "J :  0.4967574201020829\n",
      "J :  0.4967574201002849\n",
      "J :  0.4967574200985845\n",
      "J :  0.4967574200969762\n",
      "J :  0.49675742009545515\n",
      "J :  0.49675742009401647\n",
      "J :  0.4967574200926558\n",
      "J :  0.4967574200913689\n",
      "J :  0.49675742009015195\n",
      "J :  0.4967574200890007\n",
      "J :  0.4967574200879119\n",
      "J :  0.49675742008688223\n",
      "J :  0.4967574200859082\n",
      "J :  0.496757420084987\n",
      "J :  0.49675742008411583\n",
      "J :  0.496757420083292\n",
      "J :  0.49675742008251256\n",
      "J :  0.49675742008177554\n",
      "J :  0.49675742008107837\n",
      "J :  0.4967574200804192\n",
      "J :  0.49675742007979545\n",
      "J :  0.49675742007920565\n",
      "J :  0.4967574200786479\n",
      "J :  0.49675742007812035\n",
      "J :  0.4967574200776213\n",
      "J :  0.4967574200771493\n",
      "J :  0.49675742007670304\n",
      "J :  0.4967574200762809\n",
      "J :  0.4967574200758816\n",
      "J :  0.496757420075504\n",
      "J :  0.4967574200751468\n",
      "J :  0.49675742007480905\n",
      "J :  0.4967574200744897\n"
     ]
    },
    {
     "name": "stdout",
     "output_type": "stream",
     "text": [
      "J :  0.49675742007418733\n",
      "J :  0.49675742007390156\n",
      "J :  0.4967574200736312\n",
      "J :  0.49675742007337553\n",
      "J :  0.49675742007313384\n",
      "J :  0.49675742007290524\n",
      "J :  0.4967574200726888\n",
      "J :  0.49675742007248425\n",
      "J :  0.4967574200722908\n",
      "J :  0.4967574200721078\n",
      "J :  0.4967574200719348\n",
      "J :  0.49675742007177104\n",
      "J :  0.4967574200716163\n",
      "J :  0.49675742007146984\n",
      "J :  0.4967574200713313\n",
      "J :  0.49675742007120033\n",
      "J :  0.4967574200710765\n",
      "J :  0.4967574200709594\n",
      "J :  0.4967574200708485\n",
      "J :  0.4967574200707437\n",
      "J :  0.4967574200706447\n",
      "J :  0.49675742007055085\n",
      "J :  0.49675742007046214\n",
      "J :  0.4967574200703782\n",
      "J :  0.4967574200702991\n",
      "J :  0.49675742007022394\n",
      "J :  0.49675742007015294\n",
      "J :  0.49675742007008583\n",
      "J :  0.49675742007002244\n",
      "J :  0.49675742006996243\n",
      "J :  0.49675742006990564\n",
      "J :  0.4967574200698519\n",
      "J :  0.49675742006980117\n",
      "J :  0.49675742006975304\n",
      "J :  0.49675742006970774\n",
      "J :  0.4967574200696646\n",
      "J :  0.49675742006962403\n",
      "J :  0.4967574200695856\n",
      "J :  0.49675742006954926\n",
      "J :  0.4967574200695149\n",
      "J :  0.4967574200694823\n",
      "J :  0.4967574200694516\n",
      "J :  0.49675742006942253\n",
      "J :  0.496757420069395\n",
      "J :  0.49675742006936885\n",
      "J :  0.49675742006934437\n",
      "J :  0.49675742006932105\n",
      "J :  0.49675742006929907\n",
      "J :  0.49675742006927825\n",
      "J :  0.49675742006925855\n",
      "J :  0.4967574200692399\n",
      "J :  0.49675742006922236\n",
      "J :  0.49675742006920565\n",
      "J :  0.4967574200691899\n",
      "J :  0.49675742006917495\n",
      "J :  0.49675742006916096\n",
      "J :  0.4967574200691476\n",
      "J :  0.49675742006913504\n",
      "J :  0.49675742006912305\n",
      "J :  0.49675742006911183\n",
      "J :  0.4967574200691012\n",
      "J :  0.496757420069091\n",
      "J :  0.4967574200690814\n",
      "J :  0.4967574200690724\n",
      "J :  0.4967574200690639\n",
      "J :  0.4967574200690559\n",
      "J :  0.4967574200690481\n",
      "J :  0.49675742006904094\n",
      "J :  0.4967574200690342\n",
      "J :  0.49675742006902773\n",
      "J :  0.4967574200690217\n",
      "J :  0.49675742006901585\n",
      "J :  0.49675742006901036\n",
      "J :  0.49675742006900514\n",
      "J :  0.4967574200690003\n",
      "J :  0.4967574200689957\n",
      "J :  0.4967574200689912\n",
      "J :  0.4967574200689871\n",
      "J :  0.49675742006898327\n",
      "J :  0.49675742006897944\n",
      "J :  0.49675742006897594\n",
      "J :  0.49675742006897283\n",
      "J :  0.49675742006896967\n",
      "J :  0.4967574200689666\n",
      "J :  0.49675742006896373\n",
      "J :  0.4967574200689612\n",
      "J :  0.4967574200689587\n",
      "J :  0.4967574200689563\n",
      "J :  0.49675742006895407\n",
      "J :  0.49675742006895196\n",
      "J :  0.49675742006894996\n",
      "J :  0.496757420068948\n",
      "J :  0.4967574200689463\n",
      "J :  0.4967574200689445\n",
      "J :  0.496757420068943\n",
      "J :  0.49675742006894136\n",
      "J :  0.49675742006893997\n",
      "J :  0.49675742006893864\n",
      "J :  0.49675742006893736\n",
      "J :  0.4967574200689362\n",
      "J :  0.496757420068935\n",
      "J :  0.4967574200689339\n",
      "J :  0.496757420068933\n",
      "J :  0.496757420068932\n",
      "J :  0.49675742006893103\n",
      "J :  0.4967574200689302\n",
      "J :  0.49675742006892937\n",
      "J :  0.4967574200689286\n",
      "J :  0.49675742006892776\n",
      "J :  0.4967574200689271\n",
      "J :  0.4967574200689264\n",
      "J :  0.4967574200689258\n",
      "J :  0.49675742006892515\n",
      "J :  0.4967574200689247\n",
      "J :  0.4967574200689242\n",
      "J :  0.49675742006892365\n",
      "J :  0.49675742006892315\n",
      "J :  0.49675742006892276\n",
      "J :  0.4967574200689223\n",
      "J :  0.49675742006892193\n",
      "J :  0.4967574200689215\n",
      "J :  0.49675742006892115\n",
      "J :  0.4967574200689208\n",
      "J :  0.4967574200689206\n",
      "J :  0.4967574200689202\n",
      "J :  0.49675742006891993\n",
      "J :  0.4967574200689197\n",
      "J :  0.49675742006891943\n",
      "J :  0.4967574200689192\n",
      "J :  0.496757420068919\n",
      "J :  0.49675742006891876\n",
      "J :  0.49675742006891854\n",
      "J :  0.4967574200689184\n",
      "J :  0.49675742006891815\n",
      "J :  0.496757420068918\n",
      "J :  0.4967574200689178\n",
      "J :  0.4967574200689176\n",
      "J :  0.49675742006891754\n",
      "J :  0.4967574200689174\n",
      "J :  0.49675742006891727\n",
      "J :  0.49675742006891715\n",
      "J :  0.49675742006891693\n",
      "J :  0.49675742006891693\n",
      "J :  0.4967574200689167\n",
      "J :  0.49675742006891666\n",
      "J :  0.49675742006891666\n",
      "J :  0.4967574200689165\n",
      "J :  0.49675742006891643\n",
      "J :  0.49675742006891627\n",
      "J :  0.4967574200689162\n",
      "J :  0.49675742006891627\n",
      "J :  0.4967574200689162\n",
      "J :  0.49675742006891616\n",
      "J :  0.496757420068916\n",
      "J :  0.496757420068916\n",
      "J :  0.49675742006891593\n",
      "J :  0.49675742006891577\n",
      "J :  0.4967574200689158\n",
      "J :  0.4967574200689157\n",
      "J :  0.49675742006891577\n",
      "J :  0.4967574200689157\n",
      "J :  0.4967574200689157\n",
      "J :  0.4967574200689156\n",
      "J :  0.49675742006891555\n",
      "J :  0.49675742006891555\n",
      "J :  0.49675742006891555\n",
      "J :  0.4967574200689154\n",
      "J :  0.4967574200689154\n",
      "J :  0.4967574200689155\n",
      "J :  0.4967574200689154\n",
      "J :  0.4967574200689153\n",
      "J :  0.4967574200689153\n",
      "J :  0.4967574200689154\n",
      "J :  0.4967574200689154\n",
      "J :  0.49675742006891516\n",
      "J :  0.49675742006891516\n",
      "J :  0.4967574200689153\n",
      "J :  0.4967574200689153\n",
      "J :  0.49675742006891527\n",
      "J :  0.49675742006891527\n",
      "J :  0.49675742006891516\n",
      "J :  0.49675742006891527\n",
      "J :  0.49675742006891516\n",
      "J :  0.4967574200689151\n",
      "J :  0.49675742006891516\n",
      "J :  0.49675742006891516\n",
      "J :  0.4967574200689151\n",
      "J :  0.4967574200689151\n",
      "J :  0.49675742006891516\n",
      "J :  0.49675742006891516\n",
      "J :  0.4967574200689151\n",
      "J :  0.49675742006891516\n",
      "J :  0.4967574200689151\n",
      "J :  0.49675742006891516\n",
      "J :  0.49675742006891516\n",
      "J :  0.496757420068915\n",
      "J :  0.496757420068915\n",
      "J :  0.496757420068915\n",
      "J :  0.4967574200689151\n",
      "J :  0.4967574200689151\n",
      "J :  0.496757420068915\n",
      "J :  0.4967574200689151\n",
      "J :  0.4967574200689151\n",
      "J :  0.49675742006891493\n",
      "J :  0.496757420068915\n",
      "J :  0.496757420068915\n",
      "J :  0.496757420068915\n",
      "J :  0.496757420068915\n",
      "J :  0.4967574200689151\n",
      "J :  0.496757420068915\n",
      "J :  0.496757420068915\n",
      "J :  0.49675742006891493\n",
      "J :  0.496757420068915\n",
      "J :  0.496757420068915\n",
      "J :  0.496757420068915\n",
      "J :  0.4967574200689151\n",
      "J :  0.496757420068915\n",
      "J :  0.49675742006891493\n",
      "J :  0.496757420068915\n",
      "J :  0.49675742006891493\n",
      "J :  0.496757420068915\n",
      "J :  0.49675742006891493\n",
      "J :  0.496757420068915\n",
      "J :  0.4967574200689151\n",
      "J :  0.49675742006891493\n",
      "J :  0.49675742006891493\n",
      "J :  0.496757420068915\n",
      "J :  0.496757420068915\n",
      "J :  0.496757420068915\n",
      "J :  0.49675742006891493\n",
      "J :  0.496757420068915\n",
      "J :  0.496757420068915\n",
      "J :  0.496757420068915\n",
      "J :  0.496757420068915\n",
      "J :  0.49675742006891493\n",
      "J :  0.496757420068915\n",
      "J :  0.496757420068915\n",
      "J :  0.4967574200689151\n",
      "J :  0.496757420068915\n",
      "J :  0.496757420068915\n",
      "J :  0.49675742006891493\n",
      "J :  0.49675742006891493\n",
      "J :  0.496757420068915\n",
      "J :  0.496757420068915\n",
      "J :  0.496757420068915\n",
      "J :  0.496757420068915\n",
      "J :  0.496757420068915\n",
      "J :  0.496757420068915\n",
      "J :  0.496757420068915\n",
      "J :  0.496757420068915\n",
      "J :  0.49675742006891493\n",
      "CPU times: user 24.1 s, sys: 20.5 s, total: 44.5 s\n",
      "Wall time: 5.97 s\n"
     ]
    }
   ],
   "source": [
    "%%time\n",
    "theta = gradient_descent_2(alpha, x, y, 600)"
   ]
  },
  {
   "cell_type": "code",
   "execution_count": 28,
   "metadata": {},
   "outputs": [
    {
     "data": {
      "text/plain": [
       "array([-1.23127462, -1.27826918,  0.46739531, -0.67266655,  1.19255779])"
      ]
     },
     "execution_count": 28,
     "metadata": {},
     "output_type": "execute_result"
    }
   ],
   "source": [
    "theta"
   ]
  },
  {
   "cell_type": "code",
   "execution_count": 29,
   "metadata": {},
   "outputs": [],
   "source": [
    "hypothesis = 1/(1+np.exp(-(np.dot(x, theta))))\n",
    "y_pred_results = []\n",
    "for i in hypothesis:\n",
    "    if i >= 0.5:\n",
    "        y_pred_results.append(1)\n",
    "    else:\n",
    "        y_pred_results.append(0)"
   ]
  },
  {
   "cell_type": "code",
   "execution_count": 30,
   "metadata": {},
   "outputs": [
    {
     "name": "stdout",
     "output_type": "stream",
     "text": [
      "              precision    recall  f1-score   support\n",
      "\n",
      "           0       0.97      0.79      0.87     45616\n",
      "           1       0.17      0.62      0.27      3226\n",
      "\n",
      "    accuracy                           0.78     48842\n",
      "   macro avg       0.57      0.70      0.57     48842\n",
      "weighted avg       0.91      0.78      0.83     48842\n",
      "\n"
     ]
    }
   ],
   "source": [
    "print(classification_report(y_pred_results,y))"
   ]
  },
  {
   "cell_type": "markdown",
   "metadata": {},
   "source": [
    "Готовое решение"
   ]
  },
  {
   "cell_type": "code",
   "execution_count": 31,
   "metadata": {},
   "outputs": [],
   "source": [
    "model = LogisticRegression()"
   ]
  },
  {
   "cell_type": "code",
   "execution_count": null,
   "metadata": {},
   "outputs": [],
   "source": []
  },
  {
   "cell_type": "code",
   "execution_count": 32,
   "metadata": {},
   "outputs": [
    {
     "name": "stdout",
     "output_type": "stream",
     "text": [
      "CPU times: user 96.4 ms, sys: 4.4 ms, total: 101 ms\n",
      "Wall time: 99.3 ms\n"
     ]
    },
    {
     "name": "stderr",
     "output_type": "stream",
     "text": [
      "/home/levprilutsky/anaconda3/lib/python3.7/site-packages/sklearn/linear_model/logistic.py:432: FutureWarning: Default solver will be changed to 'lbfgs' in 0.22. Specify a solver to silence this warning.\n",
      "  FutureWarning)\n"
     ]
    },
    {
     "data": {
      "text/plain": [
       "LogisticRegression(C=1.0, class_weight=None, dual=False, fit_intercept=True,\n",
       "                   intercept_scaling=1, l1_ratio=None, max_iter=100,\n",
       "                   multi_class='warn', n_jobs=None, penalty='l2',\n",
       "                   random_state=None, solver='warn', tol=0.0001, verbose=0,\n",
       "                   warm_start=False)"
      ]
     },
     "execution_count": 32,
     "metadata": {},
     "output_type": "execute_result"
    }
   ],
   "source": [
    "%%time \n",
    "\n",
    "model.fit( x, y )"
   ]
  },
  {
   "cell_type": "code",
   "execution_count": 33,
   "metadata": {},
   "outputs": [],
   "source": [
    "y_predict = model.predict( x )"
   ]
  },
  {
   "cell_type": "code",
   "execution_count": 34,
   "metadata": {},
   "outputs": [
    {
     "name": "stdout",
     "output_type": "stream",
     "text": [
      "              precision    recall  f1-score   support\n",
      "\n",
      "           0       0.79      0.97      0.87     37155\n",
      "           1       0.62      0.17      0.27     11687\n",
      "\n",
      "    accuracy                           0.78     48842\n",
      "   macro avg       0.70      0.57      0.57     48842\n",
      "weighted avg       0.75      0.78      0.72     48842\n",
      "\n"
     ]
    }
   ],
   "source": [
    "print(classification_report(y,y_predict))"
   ]
  },
  {
   "cell_type": "code",
   "execution_count": 35,
   "metadata": {},
   "outputs": [
    {
     "data": {
      "text/plain": [
       "(array([-0.61502301]),\n",
       " array([[-0.61502301, -1.27725897,  0.46603009, -0.67237574,  1.19144444]]))"
      ]
     },
     "execution_count": 35,
     "metadata": {},
     "output_type": "execute_result"
    }
   ],
   "source": [
    "model.intercept_, model.coef_"
   ]
  }
 ],
 "metadata": {
  "kernelspec": {
   "display_name": "Python 3",
   "language": "python",
   "name": "python3"
  },
  "language_info": {
   "codemirror_mode": {
    "name": "ipython",
    "version": 3
   },
   "file_extension": ".py",
   "mimetype": "text/x-python",
   "name": "python",
   "nbconvert_exporter": "python",
   "pygments_lexer": "ipython3",
   "version": "3.7.3"
  }
 },
 "nbformat": 4,
 "nbformat_minor": 2
}
