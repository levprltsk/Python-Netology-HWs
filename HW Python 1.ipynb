{
 "cells": [
  {
   "cell_type": "code",
   "execution_count": 10,
   "metadata": {},
   "outputs": [
    {
     "name": "stdout",
     "output_type": "stream",
     "text": [
      "True\n"
     ]
    }
   ],
   "source": [
    "\"\"\"Даны 2 строки long_phrase и short_phrase. Напишите код, который проверяет действительно ли длинная фраза \n",
    "long_phrase длиннее короткой short_phrase. \n",
    "И выводит True или False в зависимости от результата сравнения.\"\"\"\n",
    "\n",
    "long_phrase = 'Насколько проще было бы писать программы, если бы не заказчики'\n",
    "short_phrase = '640Кб должно хватить для любых задач. Билл Гейтс (по легенде)'\n",
    "if len(long_phrase) > len(short_phrase):\n",
    "    test_result=True\n",
    "else: \n",
    "    test_result=False\n",
    "print(test_result)"
   ]
  },
  {
   "cell_type": "code",
   "execution_count": 47,
   "metadata": {},
   "outputs": [
    {
     "name": "stdout",
     "output_type": "stream",
     "text": [
      "буква \"а\" встречается чаще\n"
     ]
    }
   ],
   "source": [
    "\"\"\"\"Дана строка text. Определите какая из двух букв встречается в нем чаще - 'а' или 'и'.\n",
    "text = 'Если программист в 9-00 утра на работе, значит, он там и ночевал'\"\"\"\n",
    "\n",
    "a_count = 0\n",
    "i_count = 0\n",
    "text = 'Если программист в 9-00 утра на работе, значит, он там и ночевал'\n",
    "for very_letter in text:\n",
    "    if very_letter == 'а':\n",
    "        a_count += 1\n",
    "    elif very_letter == 'и':\n",
    "        i_count += 1 \n",
    "if a_count > i_count:\n",
    "    print ('буква \"а\" встречается чаще')\n",
    "elif a_count < i_count:\n",
    "    print ('буква \"и\" встречается чаще')\n",
    "else:\n",
    "    print ('буква \"а\" и буква \"и\" встречаются в тексте с одинаковой частотой')"
   ]
  },
  {
   "cell_type": "code",
   "execution_count": 25,
   "metadata": {},
   "outputs": [
    {
     "name": "stdout",
     "output_type": "stream",
     "text": [
      "Введите размер файла в битах: 99888343434\n",
      "Объем файла равен  95079.42 Mb\n"
     ]
    }
   ],
   "source": [
    "\"\"\"\"Дано значение объема файла в байтах. Напишите перевод этого значения в мегабайты в формате:\n",
    "'Объем файла равен 213.68Mb'\"\"\"\n",
    "\n",
    "byte_size = int(input('Введите размер файла в битах: '))\n",
    "print ('Объем файла равен ', round(byte_size/1050578, 2),'Mb')\n",
    "\n"
   ]
  },
  {
   "cell_type": "code",
   "execution_count": 48,
   "metadata": {},
   "outputs": [
    {
     "name": "stdout",
     "output_type": "stream",
     "text": [
      "0.49999999999999994\n"
     ]
    }
   ],
   "source": [
    "\"\"\"\"Выведите на экран значение синуса 30 градусов с помощью метода math.sin.\"\"\"\n",
    "\n",
    "print(math.sin((30/180)*math.pi))"
   ]
  },
  {
   "cell_type": "code",
   "execution_count": 49,
   "metadata": {},
   "outputs": [
    {
     "name": "stdout",
     "output_type": "stream",
     "text": [
      "0.30000000000000004\n"
     ]
    }
   ],
   "source": [
    " \"\"\"\"В прошлом задании у вас скорее всего не получилось точного значения 0.5 из-за конечной точности вычисления синуса. \n",
    " Но почему некоторые простые операции также могут давать неточный результат? \n",
    " Попробуйте вывести на экран результат операции 0.1 + 0.2\"\"\"\n",
    "    \n",
    "print(0.1+0.2)"
   ]
  },
  {
   "cell_type": "code",
   "execution_count": 44,
   "metadata": {},
   "outputs": [
    {
     "name": "stdout",
     "output_type": "stream",
     "text": [
      "Введите число а = 5\n",
      "Введите число b = 6\n",
      "Сперва число a = 5 и число b = 6\n",
      "Теперь число a = 6 и число b = 5\n",
      "Решение:\n",
      "a = a + b = 11\n",
      "b = b - a = 5\n",
      "a = a - b = 6\n"
     ]
    }
   ],
   "source": [
    "\"\"\"\"В переменных a и b записаны 2 различных числа. \n",
    "Вам необходимо написать код, который меняет значения a и b местами \n",
    "без использования третьей переменной.\"\"\"\n",
    "\n",
    "a = int(input('Введите число а = '))\n",
    "b = int(input('Введите число b = '))\n",
    "print ('Сперва число a =',a,'и число b =',b, end=\"\\n\")\n",
    "print ('Теперь число a =',b,'и число b =',a, end=\"\\n\")\n",
    "print ('Решение:', end=\"\\n\")\n",
    "a=a+b\n",
    "print ('a = a + b =',a, end=\"\\n\")\n",
    "b=a-b\n",
    "print ('b = b - a =',b, end=\"\\n\")\n",
    "a=a-b\n",
    "print ('a = a - b =',a)\n",
    "\n"
   ]
  },
  {
   "cell_type": "code",
   "execution_count": 96,
   "metadata": {},
   "outputs": [
    {
     "name": "stdout",
     "output_type": "stream",
     "text": [
      "1\t1\t1\n",
      "1\t3\t2\n",
      "0\t3\t3\n",
      "0\t3\t4\n",
      "1\t19\t5\n",
      "19\n"
     ]
    }
   ],
   "source": [
    "\"\"\"Дано число в двоичной системе счисления: num=10011. \n",
    "Напишите алгоритм перевода этого числа в привычную нам десятичную систему счисления.\"\"\"\n",
    "\n",
    "num = 10011\n",
    "num_ch = str(num)\n",
    "num_degree = 0\n",
    "ten_num = 0\n",
    "for n in num_ch[::-1]:\n",
    "    ten_num += ((int(n)*2)**num_degree)\n",
    "    num_degree +=1\n",
    "print (ten_num)\n"
   ]
  }
 ],
 "metadata": {
  "kernelspec": {
   "display_name": "Python 3",
   "language": "python",
   "name": "python3"
  },
  "language_info": {
   "codemirror_mode": {
    "name": "ipython",
    "version": 3
   },
   "file_extension": ".py",
   "mimetype": "text/x-python",
   "name": "python",
   "nbconvert_exporter": "python",
   "pygments_lexer": "ipython3",
   "version": "3.7.0"
  }
 },
 "nbformat": 4,
 "nbformat_minor": 2
}
