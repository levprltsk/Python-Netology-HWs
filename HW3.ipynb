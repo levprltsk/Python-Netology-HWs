{
 "cells": [
  {
   "cell_type": "code",
   "execution_count": 1,
   "metadata": {},
   "outputs": [
    {
     "name": "stdout",
     "output_type": "stream",
     "text": [
      "103\n"
     ]
    }
   ],
   "source": [
    "\"\"\"\n",
    "Задание 1\n",
    "Дан список вида:\n",
    "data = [\n",
    "    [13, 25, 23, 34],\n",
    "    [45, 32, 44, 47],\n",
    "    [12, 33, 23, 95],\n",
    "    [13, 53, 34, 35],\n",
    "]\n",
    "Напишите функцию, которая возвращает сумму элементов на диагонали. Т. е. 13+32+23+35.\n",
    "\"\"\"\n",
    "\n",
    "data = [\n",
    "    [13, 25, 23, 34],\n",
    "    [45, 32, 44, 47],\n",
    "    [12, 33, 23, 95],\n",
    "    [13, 53, 34, 35],\n",
    "]\n",
    "\n",
    "def diagonal_sum(matrix):\n",
    "    i = 0\n",
    "    diagsum = 0\n",
    "    while i < int(len(matrix)):\n",
    "        diagsum += int(data[i][i])\n",
    "        i += 1\n",
    "    return diagsum\n",
    "\n",
    "print (diagonal_sum(data))"
   ]
  },
  {
   "cell_type": "code",
   "execution_count": 15,
   "metadata": {},
   "outputs": [
    {
     "name": "stdout",
     "output_type": "stream",
     "text": [
      "430\n"
     ]
    }
   ],
   "source": [
    "\"\"\"\n",
    "Задание 2\n",
    "Дан список чисел, часть из которых имеют строковый тип или содержат буквы. \n",
    "Напишите функцию, которая возвращает сумму квадратов элементов, которые могут быть числами.\n",
    "\"\"\"\n",
    "data = [1, '5', 'abc', 20, '2']\n",
    "\n",
    "def num_square(line):\n",
    "    i=0\n",
    "    square_line = 0\n",
    "    #перебор элементов списка с проверкой\n",
    "    while i < len(line):\n",
    "        if str.isnumeric(str(line[i])):\n",
    "            square_line += int(line[i])**2\n",
    "            i += 1\n",
    "        else:\n",
    "            i += 1\n",
    "    return square_line\n",
    "                               \n",
    "print (num_square(data))"
   ]
  },
  {
   "cell_type": "code",
   "execution_count": 12,
   "metadata": {},
   "outputs": [
    {
     "data": {
      "text/plain": [
       "'СДР (специальные права заимствования)'"
      ]
     },
     "execution_count": 12,
     "metadata": {},
     "output_type": "execute_result"
    }
   ],
   "source": [
    "\"\"\"\n",
    "Задание 3\n",
    "Напишите функцию, которая возвращает название валюты (поле 'Name') с максимальным значением курса \n",
    "с помощью сервиса https://www.cbr-xml-daily.ru/daily_json.js\n",
    "\"\"\"\n",
    "import requests\n",
    "\n",
    "class Rate:\n",
    "    def __init__(self, format='value'):\n",
    "        self.format = format\n",
    "        \n",
    "    def exchange_rates(self):\n",
    "        r = requests.get('https://www.cbr-xml-daily.ru/daily_json.js')\n",
    "        return r.json()['Valute']\n",
    "        \n",
    "    def make_format(self, currency):\n",
    "        response = self.exchange_rates()\n",
    "       \n",
    "        if currency in response:\n",
    "            if self.format == 'full':\n",
    "                return response[currency]\n",
    "            \n",
    "            if self.format == 'value':\n",
    "                return response[currency]['Value']\n",
    "        \n",
    "        return 'Error'\n",
    "    \n",
    "   \n",
    "    def usd(self):\n",
    "        return self.make_format('USD')\n",
    "    \n",
    "#  Функция, возвращающая название самой дорогой валюты. \n",
    "    def most_exp_curr(self):\n",
    "        max_rate = 0\n",
    "        max_curr = str()\n",
    "        full_rates = Rate().exchange_rates()\n",
    "        for i in full_rates:\n",
    "            if ((full_rates[i]['Value'])/(full_rates[i]['Nominal'])) > max_rate:\n",
    "                max_rate = full_rates[i]['Value']\n",
    "                max_curr = i\n",
    "        return full_rates[max_curr]['Name']\n",
    "   \n",
    "    \n",
    "curr=Rate()\n",
    "curr.most_exp_curr()\n"
   ]
  },
  {
   "cell_type": "code",
   "execution_count": 3,
   "metadata": {},
   "outputs": [
    {
     "name": "stdout",
     "output_type": "stream",
     "text": [
      "33\n"
     ]
    }
   ],
   "source": [
    "\"\"\"\n",
    "Задание 5\n",
    "Напишите функцию, возвращающую сумму первых n чисел Фибоначчи\n",
    "\"\"\"\n",
    "\n",
    "def sum_of_n_fib(n):\n",
    "    fib1 = 1\n",
    "    fib2 = 1\n",
    "    fib_sum = 0\n",
    "    i = 2 \n",
    "    total_sum = 2\n",
    "    if i < n:\n",
    "#подсчет суммы чисел ряда Фибоначчи\n",
    "        while i < n:\n",
    "            fib_sum = fib2 + fib1\n",
    "            total_sum += fib_sum\n",
    "            fib1 = fib2\n",
    "            fib2 = fib_sum\n",
    "            i += 1\n",
    "#проверки на крайние значения\n",
    "    elif n == 2:\n",
    "        total_sum = 2\n",
    "    elif n == 1:\n",
    "        total_sum = 1\n",
    "    else:\n",
    "        total_sum = 0\n",
    "    return total_sum\n",
    "\n",
    "print (sum_of_n_fib(7))"
   ]
  },
  {
   "cell_type": "code",
   "execution_count": null,
   "metadata": {
    "scrolled": true
   },
   "outputs": [],
   "source": []
  }
 ],
 "metadata": {
  "kernelspec": {
   "display_name": "Python 3",
   "language": "python",
   "name": "python3"
  },
  "language_info": {
   "codemirror_mode": {
    "name": "ipython",
    "version": 3
   },
   "file_extension": ".py",
   "mimetype": "text/x-python",
   "name": "python",
   "nbconvert_exporter": "python",
   "pygments_lexer": "ipython3",
   "version": "3.7.0"
  }
 },
 "nbformat": 4,
 "nbformat_minor": 2
}
