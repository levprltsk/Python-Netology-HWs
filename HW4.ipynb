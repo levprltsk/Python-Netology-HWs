{
 "cells": [
  {
   "cell_type": "code",
   "execution_count": 45,
   "metadata": {},
   "outputs": [
    {
     "name": "stdout",
     "output_type": "stream",
     "text": [
      "['2018-12-17', '2018-12-18', '2018-12-19', '2018-12-20', '2018-12-21', '2018-12-22', '2018-12-23', '2018-12-24', '2018-12-25', '2018-12-26', '2018-12-27', '2018-12-28', '2018-12-29', '2018-12-30']\n"
     ]
    },
    {
     "data": {
      "text/plain": [
       "True"
      ]
     },
     "execution_count": 45,
     "metadata": {},
     "output_type": "execute_result"
    }
   ],
   "source": [
    "\"\"\"\n",
    "Задание 1\n",
    "Напишите функцию date_range, которая возвращает список дней между датами start_date и end_date.\n",
    "Даты должны вводиться в формате YYYY-MM-DD.\n",
    "\"\"\"\n",
    "start_date = '2018-12-16'\n",
    "end_date = '2018-12-31'\n",
    "print(date_range(start_date,end_date))\n",
    "\n",
    "from datetime import datetime\n",
    "from datetime import timedelta\n",
    "\n",
    "def date_range(start_date, end_date):\n",
    "    start_dt_form = datetime.strptime( start_date, '%Y-%m-%d')\n",
    "    end_dt_form = datetime.strptime( end_date, '%Y-%m-%d')\n",
    "    current_dt = start_dt_form\n",
    "    list_of_days_btw=[]\n",
    "    if start_dt_form < end_dt_form:\n",
    "        while current_dt < end_dt_form - timedelta(days=1):\n",
    "            current_dt += timedelta(days=1)\n",
    "            list_of_days_btw.append(current_dt.strftime('%Y-%m-%d'))\n",
    "        return list_of_days_btw\n",
    "    else:\n",
    "        return 'wrong dates'"
   ]
  },
  {
   "cell_type": "code",
   "execution_count": 47,
   "metadata": {},
   "outputs": [
    {
     "name": "stdout",
     "output_type": "stream",
     "text": [
      "[]\n"
     ]
    }
   ],
   "source": [
    "\"\"\"\n",
    "Задание 2\n",
    "Дополните функцию из первого задания проверкой на корректность дат. \n",
    "В случае неверного формата или если start_date > end_date должен возвращаться пустой список.\n",
    "\"\"\"\n",
    "\"\"\" \n",
    "Не прочитав второго задания поставил проверку в первом\n",
    "\"\"\" \n",
    "\n",
    "start_date = '2018-12-16'\n",
    "end_date = '2018-10-11'\n",
    "print(date_range(start_date,end_date))\n",
    "\n",
    "from datetime import datetime\n",
    "from datetime import timedelta\n",
    "\n",
    "def date_range(start_date, end_date):\n",
    "    start_dt_form = datetime.strptime( start_date, '%Y-%m-%d')\n",
    "    end_dt_form = datetime.strptime( end_date, '%Y-%m-%d')\n",
    "    current_dt = start_dt_form\n",
    "    list_of_days_btw=[]\n",
    "    if start_dt_form < end_dt_form:\n",
    "        while current_dt < end_dt_form - timedelta(days=1):\n",
    "            current_dt += timedelta(days=1)\n",
    "            list_of_days_btw.append(current_dt.strftime('%Y-%m-%d'))\n",
    "        return list_of_days_btw\n",
    "    else:\n",
    "        return list_of_days_btw"
   ]
  },
  {
   "cell_type": "code",
   "execution_count": 87,
   "metadata": {},
   "outputs": [
    {
     "name": "stdout",
     "output_type": "stream",
     "text": [
      "{'2018-04-02': 'True', '2018-02-29': 'False', '2018-19-02': 'False'}\n"
     ]
    }
   ],
   "source": [
    "\"\"\"\n",
    "Задание 3\n",
    "Дан поток дат в формате YYYY-MM-DD, в которых встречаются некорректные значения:\n",
    "stream = ['2018-04-02', '2018-02-29', '2018-19-02']\n",
    "Напишите функцию, которая проверяет эти даты на корректность. \n",
    "Т. е. для каждой даты возвращает True (дата корректна) или False (некорректная дата). \n",
    "\"\"\"\n",
    "\n",
    "stream = ['2018-04-02', '2018-02-29', '2018-19-02']\n",
    "\n",
    "from datetime import datetime\n",
    "import traceback\n",
    "\n",
    "def stream_test(stream_tested):\n",
    "    current_date=[]\n",
    "    test={}\n",
    "    for i in stream_tested:\n",
    "        current_date=i\n",
    "        try:\n",
    "            test.update({datetime.strftime(datetime.strptime( current_date, '%Y-%m-%d'),'%Y-%m-%d'): 'True'})\n",
    "        except:\n",
    "            test.update({current_date:'False'})\n",
    "    return print(test)\n",
    "\n",
    "stream_test(stream)\n",
    "        \n"
   ]
  },
  {
   "cell_type": "code",
   "execution_count": null,
   "metadata": {},
   "outputs": [],
   "source": [
    "\"\"\"\n",
    "Задание 4\n",
    "Напишите функцию, которая возвращает список дат с 1 по вчерашний день текущего месяца. \n",
    "Если дан 1 день месяца, то возвращается список дней прошлого месяца.\n",
    "\"\"\"\n",
    "\n"
   ]
  },
  {
   "cell_type": "code",
   "execution_count": null,
   "metadata": {},
   "outputs": [],
   "source": [
    "\"\"\"\n",
    "Задание 5\n",
    "Напишите функцию, которая возвращает точную дату в формате YYYY-MM-DD по фразе:\n",
    "1. 'today' - сегодняшнюю дату\n",
    "2. 'last monday' -  прошлый понедельник\n",
    "3. 'last day' - Последний день текущего месяца\n",
    "\"\"\""
   ]
  },
  {
   "cell_type": "code",
   "execution_count": null,
   "metadata": {},
   "outputs": [],
   "source": [
    "\"\"\"\n",
    "Задание 6\n",
    "Напишите функцию, которая разбивает на недели с понедельника \n",
    "по воскресенье интервал дат между start_date и end_date. \n",
    "Считайте, что входные данные всегда корректны. В ответ должны входить только полные недели.\n",
    "\"\"\""
   ]
  },
  {
   "cell_type": "code",
   "execution_count": null,
   "metadata": {},
   "outputs": [],
   "source": []
  }
 ],
 "metadata": {
  "kernelspec": {
   "display_name": "Python 3",
   "language": "python",
   "name": "python3"
  },
  "language_info": {
   "codemirror_mode": {
    "name": "ipython",
    "version": 3
   },
   "file_extension": ".py",
   "mimetype": "text/x-python",
   "name": "python",
   "nbconvert_exporter": "python",
   "pygments_lexer": "ipython3",
   "version": "3.7.0"
  }
 },
 "nbformat": 4,
 "nbformat_minor": 2
}
