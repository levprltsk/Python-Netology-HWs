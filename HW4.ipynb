{
 "cells": [
  {
   "cell_type": "code",
   "execution_count": 1,
   "metadata": {},
   "outputs": [
    {
     "name": "stdout",
     "output_type": "stream",
     "text": [
      "['2018-12-17', '2018-12-18', '2018-12-19', '2018-12-20', '2018-12-21', '2018-12-22', '2018-12-23', '2018-12-24', '2018-12-25', '2018-12-26', '2018-12-27', '2018-12-28', '2018-12-29', '2018-12-30']\n"
     ]
    }
   ],
   "source": [
    "\"\"\"\n",
    "Задание 1\n",
    "Напишите функцию date_range, которая возвращает список дней между датами start_date и end_date.\n",
    "Даты должны вводиться в формате YYYY-MM-DD.\n",
    "\"\"\"\n",
    "\n",
    "from datetime import datetime\n",
    "from datetime import timedelta\n",
    "\n",
    "def date_range(start_date, end_date):\n",
    "    start_dt_form = datetime.strptime( start_date, '%Y-%m-%d')\n",
    "    end_dt_form = datetime.strptime( end_date, '%Y-%m-%d')\n",
    "    current_dt = start_dt_form\n",
    "    list_of_days_btw = []\n",
    "    if start_dt_form < end_dt_form:\n",
    "        while current_dt < end_dt_form - timedelta(days=1):\n",
    "            current_dt += timedelta(days=1)\n",
    "            list_of_days_btw.append(current_dt.strftime('%Y-%m-%d'))\n",
    "        return list_of_days_btw\n",
    "    else:\n",
    "        return 'wrong dates'\n",
    "    \n",
    "start_date = '2018-12-16'\n",
    "end_date = '2018-12-31'\n",
    "print(date_range (start_date, end_date))\n"
   ]
  },
  {
   "cell_type": "code",
   "execution_count": 17,
   "metadata": {},
   "outputs": [
    {
     "name": "stdout",
     "output_type": "stream",
     "text": [
      "['2018-10-17', '2018-10-18', '2018-10-19', '2018-10-20', '2018-10-21', '2018-10-22', '2018-10-23', '2018-10-24', '2018-10-25']\n"
     ]
    }
   ],
   "source": [
    "\"\"\"\n",
    "Задание 2\n",
    "Дополните функцию из первого задания проверкой на корректность дат. \n",
    "В случае неверного формата или если start_date > end_date должен возвращаться пустой список.\n",
    "\"\"\"\n",
    "\"\"\" \n",
    "Не прочитав второго задания поставил проверку в первом\n",
    "\"\"\" \n",
    "\n",
    "start_date = '2018-10-16'\n",
    "end_date = '2018-10-26'\n",
    "print(date_range(start_date, end_date))\n",
    "\n",
    "from datetime import datetime\n",
    "from datetime import timedelta\n",
    "\n",
    "def date_range(start_date, end_date):\n",
    "    start_dt_form = datetime.strptime(start_date, '%Y-%m-%d')\n",
    "    end_dt_form = datetime.strptime(end_date, '%Y-%m-%d')\n",
    "    current_dt = start_dt_form\n",
    "    list_of_days_btw=[]\n",
    "    if start_dt_form < end_dt_form:\n",
    "        while current_dt < end_dt_form - timedelta(days=1):\n",
    "            current_dt += timedelta(days=1)\n",
    "            list_of_days_btw.append(current_dt.strftime('%Y-%m-%d'))\n",
    "        return list_of_days_btw\n",
    "    else:\n",
    "        return list_of_days_btw"
   ]
  },
  {
   "cell_type": "code",
   "execution_count": 3,
   "metadata": {},
   "outputs": [
    {
     "name": "stdout",
     "output_type": "stream",
     "text": [
      "{'2018-04-02': 'True', '2018-02-29': 'False', '2018-19-02': 'False'}\n"
     ]
    }
   ],
   "source": [
    "\"\"\"\n",
    "Задание 3\n",
    "Дан поток дат в формате YYYY-MM-DD, в которых встречаются некорректные значения:\n",
    "stream = ['2018-04-02', '2018-02-29', '2018-19-02']\n",
    "Напишите функцию, которая проверяет эти даты на корректность. \n",
    "Т. е. для каждой даты возвращает True (дата корректна) или False (некорректная дата). \n",
    "\"\"\"\n",
    "\n",
    "stream = ['2018-04-02', '2018-02-29', '2018-19-02']\n",
    "\n",
    "from datetime import datetime\n",
    "import traceback\n",
    "\n",
    "def stream_test(stream_tested):\n",
    "    current_date=[]\n",
    "    test={}\n",
    "    for i in stream_tested:\n",
    "        current_date=i\n",
    "        try:\n",
    "            test.update({datetime.strftime(datetime.strptime( current_date, '%Y-%m-%d'),'%Y-%m-%d'): 'True'})\n",
    "        except:\n",
    "            test.update({current_date:'False'})\n",
    "    return print(test)\n",
    "\n",
    "stream_test(stream)\n",
    "        \n"
   ]
  },
  {
   "cell_type": "code",
   "execution_count": 95,
   "metadata": {},
   "outputs": [
    {
     "name": "stdout",
     "output_type": "stream",
     "text": [
      "['2019-01-01', '2019-01-02', '2019-01-03', '2019-01-04', '2019-01-05', '2019-01-06', '2019-01-07']\n"
     ]
    }
   ],
   "source": [
    "\"\"\"\n",
    "Задание 4\n",
    "Напишите функцию, которая возвращает список дат с 1 по вчерашний день текущего месяца. \n",
    "Если дан 1 день месяца, то возвращается список дней прошлого месяца.\n",
    "\"\"\"\n",
    "\n",
    "from datetime import datetime\n",
    "from datetime import timedelta\n",
    "\n",
    "def past_days_of_month():\n",
    "    today = datetime.strptime(datetime.strftime(datetime.now(),'%Y-%m-%d'),'%Y-%m-%d')\n",
    "    first_mday = datetime.strptime(datetime.strftime(datetime.now(),'%Y-%m-01'), '%Y-%m-%d')\n",
    "    list_of_days_btw=[]\n",
    "    counter = 0\n",
    "    if today == first_mday and counter == 0:\n",
    "        if today.month == 12 or today.month == 4 or today.month == 6 or today.month == 9 or today.month == 11 or today.month == 2 or today.month == 7:\n",
    "            first_mday = first_mday - timedelta(days = 30)\n",
    "            counter = 1\n",
    "        elif today.month == 3:\n",
    "            first_mday = datetime.strptime(datetime.strftime(datetime.now(),'%Y-02-01'),'%Y-02-01')\n",
    "            counter = 1\n",
    "        else:\n",
    "            first_mday = first_mday - timedelta(days = 31)\n",
    "            counter = 1\n",
    "    while first_mday < today:\n",
    "        list_of_days_btw.append(first_mday.strftime('%Y-%m-%d'))\n",
    "        first_mday += timedelta(days=1)\n",
    "        \n",
    "    return list_of_days_btw\n",
    "\n",
    "print (past_days_of_month())\n"
   ]
  },
  {
   "cell_type": "code",
   "execution_count": 136,
   "metadata": {},
   "outputs": [
    {
     "name": "stdout",
     "output_type": "stream",
     "text": [
      "2019-01-31\n"
     ]
    }
   ],
   "source": [
    "\"\"\"\n",
    "Задание 5\n",
    "Напишите функцию, которая возвращает точную дату в формате YYYY-MM-DD по фразе:\n",
    "1. 'today' - сегодняшнюю дату\n",
    "2. 'last monday' -  прошлый понедельник\n",
    "3. 'last day' - Последний день текущего месяца\n",
    "\"\"\"\n",
    "from datetime import datetime\n",
    "from datetime import timedelta\n",
    "from calendar import calendar\n",
    "\n",
    "def defdate(keyword):\n",
    "    if keyword == 'today':\n",
    "        answer = datetime.strftime(datetime.now(),'%Y-%m-%d')\n",
    "    elif keyword == 'last monday':\n",
    "        weekday = datetime.now().weekday()\n",
    "        answer = datetime.strftime(datetime.now()-timedelta(days=weekday),'%Y-%m-%d')\n",
    "    elif keyword == 'last day':\n",
    "        answer=datetime.strftime(datetime.strptime(datetime.strftime(datetime.strptime(datetime.strftime(datetime.now(),'%Y-%m-01'),'%Y-%m-%d') + timedelta(days=32),'%Y-%m-01'),'%Y-%m-%d') - timedelta(days=1),'%Y-%m-%d')\n",
    "        return answer\n",
    "print(defdate('last day'))\n",
    "\n",
    "#Решенеие 'last day' к первому дню текущего месяца* добаляется 32 дня и обнуляются дни в получившемся месяце**\n",
    "#Далее вычитается еще один день\n",
    "#answer=\n",
    "#datetime.strftime(\n",
    "#    datetime.strptime(\n",
    "#        datetime.strftime(\n",
    "#            datetime.strptime(\n",
    "#                datetime.strftime(datetime.now(),'%Y-%m-01'),'%Y-%m-%d' *\n",
    "#            ) + timedelta(days=32),'%Y-%m-01'                           **\n",
    "#        ),'%Y-%m-%d'\n",
    "#    ) - timedelta(days=1),'%Y-%m-%d'                                    ***\n",
    "#)\n",
    "# "
   ]
  },
  {
   "cell_type": "code",
   "execution_count": 29,
   "metadata": {},
   "outputs": [
    {
     "name": "stdout",
     "output_type": "stream",
     "text": [
      "{1: ['2019-01-07', '2019-01-13'], 2: ['2019-01-14', '2019-01-20'], 3: ['2019-01-21', '2019-01-27'], 4: ['2019-01-28', '2019-02-03']}\n"
     ]
    }
   ],
   "source": [
    "\"\"\"\n",
    "Задание 6\n",
    "Напишите функцию, которая разбивает на недели с понедельника \n",
    "по воскресенье интервал дат между start_date и end_date. \n",
    "Считайте, что входные данные всегда корректны. В ответ должны входить только полные недели.\n",
    "\"\"\"\n",
    "\n",
    "start_date = '2019-01-07'\n",
    "end_date = '2019-02-09'\n",
    "\n",
    "from datetime import datetime\n",
    "from datetime import timedelta\n",
    "\n",
    "def fullweeks(start_date, end_date):\n",
    "    week_list = {}\n",
    "    week_num = 1\n",
    "    start_dt_form = datetime.strptime(start_date, '%Y-%m-%d')\n",
    "    end_dt_form = datetime.strptime(end_date, '%Y-%m-%d')\n",
    "    while start_dt_form < end_dt_form:\n",
    "        if start_dt_form.weekday() > 0 and week_num < 2:\n",
    "            start_dt_form += timedelta(days=7)\n",
    "        if start_dt_form + timedelta(days = 6 - start_dt_form.weekday()) <= end_dt_form:\n",
    "            week_list[week_num]=[datetime.strftime(start_dt_form - timedelta(days = start_dt_form.weekday()),'%Y-%m-%d'),datetime.strftime(start_dt_form + timedelta(days = 6 - start_dt_form.weekday()),'%Y-%m-%d')]\n",
    "            start_dt_form += timedelta(days=7)\n",
    "            week_num += 1\n",
    "        else:\n",
    "            start_dt_form += timedelta(days=7)\n",
    "    return week_list\n",
    "        \n",
    "    \n",
    "print(fullweeks(start_date, end_date))"
   ]
  },
  {
   "cell_type": "code",
   "execution_count": null,
   "metadata": {},
   "outputs": [],
   "source": []
  }
 ],
 "metadata": {
  "kernelspec": {
   "display_name": "Python 3",
   "language": "python",
   "name": "python3"
  }
 },
 "nbformat": 4,
 "nbformat_minor": 2
}
